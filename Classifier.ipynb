{
  "nbformat": 4,
  "nbformat_minor": 0,
  "metadata": {
    "colab": {
      "provenance": [],
      "authorship_tag": "ABX9TyPzW0wyKm6h+VHC0IWANLh5",
      "include_colab_link": true
    },
    "kernelspec": {
      "name": "python3",
      "display_name": "Python 3"
    },
    "language_info": {
      "name": "python"
    }
  },
  "cells": [
    {
      "cell_type": "markdown",
      "metadata": {
        "id": "view-in-github",
        "colab_type": "text"
      },
      "source": [
        "<a href=\"https://colab.research.google.com/github/Rogercas1/DS201Final/blob/main/Classifier.ipynb\" target=\"_parent\"><img src=\"https://colab.research.google.com/assets/colab-badge.svg\" alt=\"Open In Colab\"/></a>"
      ]
    },
    {
      "cell_type": "code",
      "execution_count": 1,
      "metadata": {
        "id": "gM-mpqleY_nJ"
      },
      "outputs": [],
      "source": [
        "import pandas as pd\n",
        "import seaborn as sns\n",
        "import matplotlib.pyplot as plt"
      ]
    },
    {
      "cell_type": "code",
      "source": [
        "csv = \"heart.csv\"\n",
        "df = pd.read_csv(csv)"
      ],
      "metadata": {
        "id": "nFvsJGOuZx8n"
      },
      "execution_count": 2,
      "outputs": []
    },
    {
      "cell_type": "code",
      "source": [
        "df"
      ],
      "metadata": {
        "colab": {
          "base_uri": "https://localhost:8080/",
          "height": 424
        },
        "id": "RljkW8MHZ8tk",
        "outputId": "5019155d-d29c-4e27-e658-f02b17550d10"
      },
      "execution_count": 3,
      "outputs": [
        {
          "output_type": "execute_result",
          "data": {
            "text/plain": [
              "     age  sex  cp  trtbps  chol  fbs  restecg  thalachh  exng  oldpeak  slp  \\\n",
              "0     63    1   3     145   233    1        0       150     0      2.3    0   \n",
              "1     37    1   2     130   250    0        1       187     0      3.5    0   \n",
              "2     41    0   1     130   204    0        0       172     0      1.4    2   \n",
              "3     56    1   1     120   236    0        1       178     0      0.8    2   \n",
              "4     57    0   0     120   354    0        1       163     1      0.6    2   \n",
              "..   ...  ...  ..     ...   ...  ...      ...       ...   ...      ...  ...   \n",
              "298   57    0   0     140   241    0        1       123     1      0.2    1   \n",
              "299   45    1   3     110   264    0        1       132     0      1.2    1   \n",
              "300   68    1   0     144   193    1        1       141     0      3.4    1   \n",
              "301   57    1   0     130   131    0        1       115     1      1.2    1   \n",
              "302   57    0   1     130   236    0        0       174     0      0.0    1   \n",
              "\n",
              "     caa  thall  output  \n",
              "0      0      1       1  \n",
              "1      0      2       1  \n",
              "2      0      2       1  \n",
              "3      0      2       1  \n",
              "4      0      2       1  \n",
              "..   ...    ...     ...  \n",
              "298    0      3       0  \n",
              "299    0      3       0  \n",
              "300    2      3       0  \n",
              "301    1      3       0  \n",
              "302    1      2       0  \n",
              "\n",
              "[303 rows x 14 columns]"
            ],
            "text/html": [
              "\n",
              "  <div id=\"df-0fdb6bdc-e99c-4e4e-8dd8-6ecc65ac64de\">\n",
              "    <div class=\"colab-df-container\">\n",
              "      <div>\n",
              "<style scoped>\n",
              "    .dataframe tbody tr th:only-of-type {\n",
              "        vertical-align: middle;\n",
              "    }\n",
              "\n",
              "    .dataframe tbody tr th {\n",
              "        vertical-align: top;\n",
              "    }\n",
              "\n",
              "    .dataframe thead th {\n",
              "        text-align: right;\n",
              "    }\n",
              "</style>\n",
              "<table border=\"1\" class=\"dataframe\">\n",
              "  <thead>\n",
              "    <tr style=\"text-align: right;\">\n",
              "      <th></th>\n",
              "      <th>age</th>\n",
              "      <th>sex</th>\n",
              "      <th>cp</th>\n",
              "      <th>trtbps</th>\n",
              "      <th>chol</th>\n",
              "      <th>fbs</th>\n",
              "      <th>restecg</th>\n",
              "      <th>thalachh</th>\n",
              "      <th>exng</th>\n",
              "      <th>oldpeak</th>\n",
              "      <th>slp</th>\n",
              "      <th>caa</th>\n",
              "      <th>thall</th>\n",
              "      <th>output</th>\n",
              "    </tr>\n",
              "  </thead>\n",
              "  <tbody>\n",
              "    <tr>\n",
              "      <th>0</th>\n",
              "      <td>63</td>\n",
              "      <td>1</td>\n",
              "      <td>3</td>\n",
              "      <td>145</td>\n",
              "      <td>233</td>\n",
              "      <td>1</td>\n",
              "      <td>0</td>\n",
              "      <td>150</td>\n",
              "      <td>0</td>\n",
              "      <td>2.3</td>\n",
              "      <td>0</td>\n",
              "      <td>0</td>\n",
              "      <td>1</td>\n",
              "      <td>1</td>\n",
              "    </tr>\n",
              "    <tr>\n",
              "      <th>1</th>\n",
              "      <td>37</td>\n",
              "      <td>1</td>\n",
              "      <td>2</td>\n",
              "      <td>130</td>\n",
              "      <td>250</td>\n",
              "      <td>0</td>\n",
              "      <td>1</td>\n",
              "      <td>187</td>\n",
              "      <td>0</td>\n",
              "      <td>3.5</td>\n",
              "      <td>0</td>\n",
              "      <td>0</td>\n",
              "      <td>2</td>\n",
              "      <td>1</td>\n",
              "    </tr>\n",
              "    <tr>\n",
              "      <th>2</th>\n",
              "      <td>41</td>\n",
              "      <td>0</td>\n",
              "      <td>1</td>\n",
              "      <td>130</td>\n",
              "      <td>204</td>\n",
              "      <td>0</td>\n",
              "      <td>0</td>\n",
              "      <td>172</td>\n",
              "      <td>0</td>\n",
              "      <td>1.4</td>\n",
              "      <td>2</td>\n",
              "      <td>0</td>\n",
              "      <td>2</td>\n",
              "      <td>1</td>\n",
              "    </tr>\n",
              "    <tr>\n",
              "      <th>3</th>\n",
              "      <td>56</td>\n",
              "      <td>1</td>\n",
              "      <td>1</td>\n",
              "      <td>120</td>\n",
              "      <td>236</td>\n",
              "      <td>0</td>\n",
              "      <td>1</td>\n",
              "      <td>178</td>\n",
              "      <td>0</td>\n",
              "      <td>0.8</td>\n",
              "      <td>2</td>\n",
              "      <td>0</td>\n",
              "      <td>2</td>\n",
              "      <td>1</td>\n",
              "    </tr>\n",
              "    <tr>\n",
              "      <th>4</th>\n",
              "      <td>57</td>\n",
              "      <td>0</td>\n",
              "      <td>0</td>\n",
              "      <td>120</td>\n",
              "      <td>354</td>\n",
              "      <td>0</td>\n",
              "      <td>1</td>\n",
              "      <td>163</td>\n",
              "      <td>1</td>\n",
              "      <td>0.6</td>\n",
              "      <td>2</td>\n",
              "      <td>0</td>\n",
              "      <td>2</td>\n",
              "      <td>1</td>\n",
              "    </tr>\n",
              "    <tr>\n",
              "      <th>...</th>\n",
              "      <td>...</td>\n",
              "      <td>...</td>\n",
              "      <td>...</td>\n",
              "      <td>...</td>\n",
              "      <td>...</td>\n",
              "      <td>...</td>\n",
              "      <td>...</td>\n",
              "      <td>...</td>\n",
              "      <td>...</td>\n",
              "      <td>...</td>\n",
              "      <td>...</td>\n",
              "      <td>...</td>\n",
              "      <td>...</td>\n",
              "      <td>...</td>\n",
              "    </tr>\n",
              "    <tr>\n",
              "      <th>298</th>\n",
              "      <td>57</td>\n",
              "      <td>0</td>\n",
              "      <td>0</td>\n",
              "      <td>140</td>\n",
              "      <td>241</td>\n",
              "      <td>0</td>\n",
              "      <td>1</td>\n",
              "      <td>123</td>\n",
              "      <td>1</td>\n",
              "      <td>0.2</td>\n",
              "      <td>1</td>\n",
              "      <td>0</td>\n",
              "      <td>3</td>\n",
              "      <td>0</td>\n",
              "    </tr>\n",
              "    <tr>\n",
              "      <th>299</th>\n",
              "      <td>45</td>\n",
              "      <td>1</td>\n",
              "      <td>3</td>\n",
              "      <td>110</td>\n",
              "      <td>264</td>\n",
              "      <td>0</td>\n",
              "      <td>1</td>\n",
              "      <td>132</td>\n",
              "      <td>0</td>\n",
              "      <td>1.2</td>\n",
              "      <td>1</td>\n",
              "      <td>0</td>\n",
              "      <td>3</td>\n",
              "      <td>0</td>\n",
              "    </tr>\n",
              "    <tr>\n",
              "      <th>300</th>\n",
              "      <td>68</td>\n",
              "      <td>1</td>\n",
              "      <td>0</td>\n",
              "      <td>144</td>\n",
              "      <td>193</td>\n",
              "      <td>1</td>\n",
              "      <td>1</td>\n",
              "      <td>141</td>\n",
              "      <td>0</td>\n",
              "      <td>3.4</td>\n",
              "      <td>1</td>\n",
              "      <td>2</td>\n",
              "      <td>3</td>\n",
              "      <td>0</td>\n",
              "    </tr>\n",
              "    <tr>\n",
              "      <th>301</th>\n",
              "      <td>57</td>\n",
              "      <td>1</td>\n",
              "      <td>0</td>\n",
              "      <td>130</td>\n",
              "      <td>131</td>\n",
              "      <td>0</td>\n",
              "      <td>1</td>\n",
              "      <td>115</td>\n",
              "      <td>1</td>\n",
              "      <td>1.2</td>\n",
              "      <td>1</td>\n",
              "      <td>1</td>\n",
              "      <td>3</td>\n",
              "      <td>0</td>\n",
              "    </tr>\n",
              "    <tr>\n",
              "      <th>302</th>\n",
              "      <td>57</td>\n",
              "      <td>0</td>\n",
              "      <td>1</td>\n",
              "      <td>130</td>\n",
              "      <td>236</td>\n",
              "      <td>0</td>\n",
              "      <td>0</td>\n",
              "      <td>174</td>\n",
              "      <td>0</td>\n",
              "      <td>0.0</td>\n",
              "      <td>1</td>\n",
              "      <td>1</td>\n",
              "      <td>2</td>\n",
              "      <td>0</td>\n",
              "    </tr>\n",
              "  </tbody>\n",
              "</table>\n",
              "<p>303 rows × 14 columns</p>\n",
              "</div>\n",
              "      <button class=\"colab-df-convert\" onclick=\"convertToInteractive('df-0fdb6bdc-e99c-4e4e-8dd8-6ecc65ac64de')\"\n",
              "              title=\"Convert this dataframe to an interactive table.\"\n",
              "              style=\"display:none;\">\n",
              "        \n",
              "  <svg xmlns=\"http://www.w3.org/2000/svg\" height=\"24px\"viewBox=\"0 0 24 24\"\n",
              "       width=\"24px\">\n",
              "    <path d=\"M0 0h24v24H0V0z\" fill=\"none\"/>\n",
              "    <path d=\"M18.56 5.44l.94 2.06.94-2.06 2.06-.94-2.06-.94-.94-2.06-.94 2.06-2.06.94zm-11 1L8.5 8.5l.94-2.06 2.06-.94-2.06-.94L8.5 2.5l-.94 2.06-2.06.94zm10 10l.94 2.06.94-2.06 2.06-.94-2.06-.94-.94-2.06-.94 2.06-2.06.94z\"/><path d=\"M17.41 7.96l-1.37-1.37c-.4-.4-.92-.59-1.43-.59-.52 0-1.04.2-1.43.59L10.3 9.45l-7.72 7.72c-.78.78-.78 2.05 0 2.83L4 21.41c.39.39.9.59 1.41.59.51 0 1.02-.2 1.41-.59l7.78-7.78 2.81-2.81c.8-.78.8-2.07 0-2.86zM5.41 20L4 18.59l7.72-7.72 1.47 1.35L5.41 20z\"/>\n",
              "  </svg>\n",
              "      </button>\n",
              "      \n",
              "  <style>\n",
              "    .colab-df-container {\n",
              "      display:flex;\n",
              "      flex-wrap:wrap;\n",
              "      gap: 12px;\n",
              "    }\n",
              "\n",
              "    .colab-df-convert {\n",
              "      background-color: #E8F0FE;\n",
              "      border: none;\n",
              "      border-radius: 50%;\n",
              "      cursor: pointer;\n",
              "      display: none;\n",
              "      fill: #1967D2;\n",
              "      height: 32px;\n",
              "      padding: 0 0 0 0;\n",
              "      width: 32px;\n",
              "    }\n",
              "\n",
              "    .colab-df-convert:hover {\n",
              "      background-color: #E2EBFA;\n",
              "      box-shadow: 0px 1px 2px rgba(60, 64, 67, 0.3), 0px 1px 3px 1px rgba(60, 64, 67, 0.15);\n",
              "      fill: #174EA6;\n",
              "    }\n",
              "\n",
              "    [theme=dark] .colab-df-convert {\n",
              "      background-color: #3B4455;\n",
              "      fill: #D2E3FC;\n",
              "    }\n",
              "\n",
              "    [theme=dark] .colab-df-convert:hover {\n",
              "      background-color: #434B5C;\n",
              "      box-shadow: 0px 1px 3px 1px rgba(0, 0, 0, 0.15);\n",
              "      filter: drop-shadow(0px 1px 2px rgba(0, 0, 0, 0.3));\n",
              "      fill: #FFFFFF;\n",
              "    }\n",
              "  </style>\n",
              "\n",
              "      <script>\n",
              "        const buttonEl =\n",
              "          document.querySelector('#df-0fdb6bdc-e99c-4e4e-8dd8-6ecc65ac64de button.colab-df-convert');\n",
              "        buttonEl.style.display =\n",
              "          google.colab.kernel.accessAllowed ? 'block' : 'none';\n",
              "\n",
              "        async function convertToInteractive(key) {\n",
              "          const element = document.querySelector('#df-0fdb6bdc-e99c-4e4e-8dd8-6ecc65ac64de');\n",
              "          const dataTable =\n",
              "            await google.colab.kernel.invokeFunction('convertToInteractive',\n",
              "                                                     [key], {});\n",
              "          if (!dataTable) return;\n",
              "\n",
              "          const docLinkHtml = 'Like what you see? Visit the ' +\n",
              "            '<a target=\"_blank\" href=https://colab.research.google.com/notebooks/data_table.ipynb>data table notebook</a>'\n",
              "            + ' to learn more about interactive tables.';\n",
              "          element.innerHTML = '';\n",
              "          dataTable['output_type'] = 'display_data';\n",
              "          await google.colab.output.renderOutput(dataTable, element);\n",
              "          const docLink = document.createElement('div');\n",
              "          docLink.innerHTML = docLinkHtml;\n",
              "          element.appendChild(docLink);\n",
              "        }\n",
              "      </script>\n",
              "    </div>\n",
              "  </div>\n",
              "  "
            ]
          },
          "metadata": {},
          "execution_count": 3
        }
      ]
    },
    {
      "cell_type": "code",
      "source": [
        "df.duplicated().sum()"
      ],
      "metadata": {
        "id": "fkyTnvwPZ0AA",
        "colab": {
          "base_uri": "https://localhost:8080/"
        },
        "outputId": "d424f158-727c-45f6-829d-5db80190826e"
      },
      "execution_count": 4,
      "outputs": [
        {
          "output_type": "execute_result",
          "data": {
            "text/plain": [
              "1"
            ]
          },
          "metadata": {},
          "execution_count": 4
        }
      ]
    },
    {
      "cell_type": "code",
      "source": [
        "# Remove an duplicates existing in data\n",
        "df.drop_duplicates(inplace=True)"
      ],
      "metadata": {
        "id": "KAHQz84hTn0q"
      },
      "execution_count": 5,
      "outputs": []
    },
    {
      "cell_type": "code",
      "source": [
        "df.dtypes"
      ],
      "metadata": {
        "colab": {
          "base_uri": "https://localhost:8080/"
        },
        "id": "FTqkYjOcp2CV",
        "outputId": "64ddbad3-98ae-4654-ac70-ce700181007f"
      },
      "execution_count": 6,
      "outputs": [
        {
          "output_type": "execute_result",
          "data": {
            "text/plain": [
              "age           int64\n",
              "sex           int64\n",
              "cp            int64\n",
              "trtbps        int64\n",
              "chol          int64\n",
              "fbs           int64\n",
              "restecg       int64\n",
              "thalachh      int64\n",
              "exng          int64\n",
              "oldpeak     float64\n",
              "slp           int64\n",
              "caa           int64\n",
              "thall         int64\n",
              "output        int64\n",
              "dtype: object"
            ]
          },
          "metadata": {},
          "execution_count": 6
        }
      ]
    },
    {
      "cell_type": "markdown",
      "source": [
        "Let's standardize the data to make sure no outliers will affect the accuracy of the models we plan on using. "
      ],
      "metadata": {
        "id": "ZqPTAS5thesy"
      }
    },
    {
      "cell_type": "code",
      "source": [
        "# Plot multidigit columbs\n",
        "sns.boxplot(data = df[['trtbps', 'chol', 'thalachh', 'oldpeak']])"
      ],
      "metadata": {
        "colab": {
          "base_uri": "https://localhost:8080/",
          "height": 282
        },
        "id": "ciHyc9cRgUng",
        "outputId": "4c3b7059-4a6c-4e49-e4be-31825ef473ff"
      },
      "execution_count": 7,
      "outputs": [
        {
          "output_type": "execute_result",
          "data": {
            "text/plain": [
              "<matplotlib.axes._subplots.AxesSubplot at 0x7fab2cd8dd50>"
            ]
          },
          "metadata": {},
          "execution_count": 7
        },
        {
          "output_type": "display_data",
          "data": {
            "text/plain": [
              "<Figure size 432x288 with 1 Axes>"
            ],
            "image/png": "[encoded data removed]"
          },
          "metadata": {
            "needs_background": "light"
          }
        }
      ]
    },
    {
      "cell_type": "markdown",
      "source": [
        "We see some outliers in the blood pressure, cholestoral, and maximum heart rate achieved columns"
      ],
      "metadata": {
        "id": "RJHCTAU5jmR3"
      }
    },
    {
      "cell_type": "code",
      "source": [
        "from sklearn import preprocessing\n",
        "from sklearn.preprocessing import LabelEncoder\n",
        "from sklearn.preprocessing import RobustScaler,MinMaxScaler,StandardScaler\n",
        "scaler = RobustScaler() # Robust scaler is not impacted by outliers"
      ],
      "metadata": {
        "id": "IW69mThuq6zX"
      },
      "execution_count": 8,
      "outputs": []
    },
    {
      "cell_type": "code",
      "source": [
        "X = df.drop(['output'],axis=1)\n",
        "y = df[['output']]"
      ],
      "metadata": {
        "id": "Ic4bHHdxssmo"
      },
      "execution_count": 9,
      "outputs": []
    },
    {
      "cell_type": "code",
      "source": [
        "from sklearn.model_selection import train_test_split\n",
        "X_train, X_test, y_train, y_test = train_test_split(X,y, test_size = 0.2, random_state = 0)"
      ],
      "metadata": {
        "id": "FsccTo12CTb7"
      },
      "execution_count": 10,
      "outputs": []
    },
    {
      "cell_type": "code",
      "source": [
        "X_train = scaler.fit_transform(X_train) # Fit_transform allows use to scale training data allowing us to learn mean anad variances of data which can be applied to test data\n",
        "X_test = scaler.fit_transform(X_test)"
      ],
      "metadata": {
        "id": "8REz-rIYCcQ8"
      },
      "execution_count": 11,
      "outputs": []
    },
    {
      "cell_type": "code",
      "source": [
        "X_train, X_test"
      ],
      "metadata": {
        "colab": {
          "base_uri": "https://localhost:8080/"
        },
        "id": "rkVNfcXODtMp",
        "outputId": "44b6b08f-f675-4a2f-da0b-6d685d3698d5"
      },
      "execution_count": 12,
      "outputs": [
        {
          "output_type": "execute_result",
          "data": {
            "text/plain": [
              "(array([[-1.        , -1.        ,  0.5       , ...,  0.        ,\n",
              "          0.        ,  0.        ],\n",
              "        [ 0.76923077, -1.        ,  0.5       , ...,  0.        ,\n",
              "          1.        ,  0.        ],\n",
              "        [ 0.15384615,  0.        ,  0.5       , ...,  1.        ,\n",
              "          0.        ,  0.        ],\n",
              "        ...,\n",
              "        [ 0.        ,  0.        ,  1.        , ...,  0.        ,\n",
              "          0.        ,  1.        ],\n",
              "        [-0.69230769,  0.        ,  0.5       , ...,  1.        ,\n",
              "          0.        ,  0.        ],\n",
              "        [ 0.15384615,  0.        ,  0.5       , ...,  1.        ,\n",
              "          2.        ,  1.        ]]),\n",
              " array([[ 0.6       ,  0.        ,  0.        , -0.5       ,  0.75925926,\n",
              "          0.        , -1.        , -1.58064516,  0.        ,  0.5       ,\n",
              "         -1.        ,  1.        ,  1.        ],\n",
              "        [ 0.73333333,  0.        ,  1.        ,  2.        , -0.24074074,\n",
              "          0.        , -1.        ,  0.09677419,  0.        ,  0.        ,\n",
              "         -1.        ,  0.        ,  1.        ],\n",
              "        [ 0.73333333,  0.        ,  0.5       , -0.25      ,  1.27777778,\n",
              "          0.        ,  0.        , -0.67741935,  1.        ,  0.75      ,\n",
              "         -1.        ,  0.        ,  1.        ],\n",
              "        [ 0.33333333,  0.        , -0.5       ,  1.        ,  0.55555556,\n",
              "          0.        , -1.        , -1.32258065,  1.        ,  0.125     ,\n",
              "          0.        ,  0.        ,  1.        ],\n",
              "        [ 0.6       ,  0.        ,  0.5       ,  0.        , -0.16666667,\n",
              "          0.        ,  0.        , -0.19354839,  0.        ,  0.75      ,\n",
              "         -1.        ,  3.        ,  1.        ],\n",
              "        [ 0.2       , -1.        , -0.5       ,  0.2       ,  3.12962963,\n",
              "          0.        , -1.        , -0.06451613,  1.        ,  0.8125    ,\n",
              "         -1.        ,  2.        ,  1.        ],\n",
              "        [ 0.46666667,  0.        , -0.5       , -0.65      , -0.18518519,\n",
              "          1.        ,  0.        ,  0.25806452,  1.        ,  0.5       ,\n",
              "          0.        ,  2.        ,  1.        ],\n",
              "        [ 0.        ,  0.        , -0.5       ,  0.5       , -0.68518519,\n",
              "          1.        , -1.        ,  0.09677419,  1.        ,  1.5625    ,\n",
              "         -2.        ,  0.        ,  1.        ],\n",
              "        [ 0.06666667,  0.        , -0.5       , -1.        , -0.01851852,\n",
              "          0.        ,  0.        , -0.83870968,  1.        ,  1.375     ,\n",
              "         -1.        ,  1.        ,  1.        ],\n",
              "        [ 0.8       ,  0.        , -0.5       ,  0.25      ,  0.25925926,\n",
              "          0.        , -1.        , -0.80645161,  0.        ,  1.375     ,\n",
              "         -1.        ,  1.        ,  1.        ],\n",
              "        [ 0.26666667,  0.        ,  0.5       ,  1.        , -2.11111111,\n",
              "          1.        ,  0.        ,  0.67741935,  0.        , -0.25      ,\n",
              "          0.        ,  1.        ,  1.        ],\n",
              "        [-0.26666667, -1.        , -0.5       ,  0.        ,  0.53703704,\n",
              "          0.        ,  0.        ,  0.35483871,  0.        , -0.375     ,\n",
              "          0.        ,  0.        ,  0.        ],\n",
              "        [-0.33333333,  0.        , -0.5       ,  0.        ,  0.2962963 ,\n",
              "          1.        , -1.        , -0.06451613,  1.        , -0.375     ,\n",
              "          0.        ,  2.        ,  1.        ],\n",
              "        [-0.26666667,  0.        ,  0.        ,  0.        ,  0.48148148,\n",
              "          0.        ,  0.        ,  0.61290323,  0.        ,  0.        ,\n",
              "          0.        ,  0.        ,  0.        ],\n",
              "        [-0.2       , -1.        ,  0.5       , -0.5       , -0.38888889,\n",
              "          0.        ,  0.        ,  0.19354839,  0.        ,  0.625     ,\n",
              "         -1.        ,  0.        ,  0.        ],\n",
              "        [-0.13333333,  0.        ,  0.5       , -1.5       , -0.33333333,\n",
              "          0.        ,  0.        , -0.29032258,  1.        ,  0.375     ,\n",
              "         -1.        ,  0.        ,  0.        ],\n",
              "        [-0.06666667,  0.        , -0.5       , -1.1       , -0.12962963,\n",
              "          1.        ,  0.        , -0.16129032,  0.        , -0.3125    ,\n",
              "          0.        ,  3.        ,  1.        ],\n",
              "        [-0.33333333,  0.        ,  0.5       , -0.3       ,  0.27777778,\n",
              "          1.        ,  0.        ,  0.74193548,  0.        , -0.375     ,\n",
              "          0.        ,  2.        ,  0.        ],\n",
              "        [ 0.8       ,  0.        , -0.5       , -1.        ,  0.14814815,\n",
              "          0.        , -1.        ,  0.19354839,  0.        ,  0.        ,\n",
              "          0.        ,  2.        , -1.        ],\n",
              "        [-0.73333333,  0.        ,  0.5       , -0.5       ,  0.        ,\n",
              "          1.        ,  0.        ,  1.35483871,  0.        ,  0.125     ,\n",
              "         -2.        ,  0.        ,  1.        ],\n",
              "        [-0.73333333,  0.        , -0.5       ,  0.5       , -0.25925926,\n",
              "          0.        ,  0.        ,  0.83870968,  0.        , -0.375     ,\n",
              "          0.        ,  0.        ,  0.        ],\n",
              "        [ 0.53333333, -1.        , -0.5       ,  0.75      ,  1.24074074,\n",
              "          0.        , -1.        , -0.19354839,  1.        ,  0.25      ,\n",
              "         -1.        ,  0.        ,  1.        ],\n",
              "        [-1.2       ,  0.        , -0.5       , -0.5       , -0.77777778,\n",
              "          0.        ,  0.        , -0.70967742,  1.        ,  0.625     ,\n",
              "         -1.        ,  0.        ,  1.        ],\n",
              "        [ 0.86666667,  0.        , -0.5       , -0.9       , -0.51851852,\n",
              "          0.        , -1.        , -0.64516129,  1.        , -0.3125    ,\n",
              "          0.        ,  1.        ,  0.        ],\n",
              "        [-0.8       ,  0.        ,  0.        , -1.        , -0.09259259,\n",
              "          0.        ,  0.        ,  0.03225806,  0.        , -0.375     ,\n",
              "          0.        ,  0.        ,  0.        ],\n",
              "        [ 0.66666667,  0.        , -0.5       ,  0.        ,  1.66666667,\n",
              "          1.        , -1.        , -0.64516129,  1.        ,  0.75      ,\n",
              "          0.        ,  3.        ,  1.        ],\n",
              "        [ 0.33333333,  0.        , -0.5       ,  0.8       , -0.40740741,\n",
              "          0.        ,  0.        , -1.51612903,  0.        ,  0.875     ,\n",
              "         -1.        ,  1.        ,  1.        ],\n",
              "        [ 0.53333333,  0.        ,  1.        ,  0.2       , -0.11111111,\n",
              "          0.        ,  0.        , -0.22580645,  0.        ,  1.25      ,\n",
              "         -1.        ,  2.        ,  0.        ],\n",
              "        [-0.93333333, -1.        ,  0.5       ,  0.4       , -0.37037037,\n",
              "          0.        ,  0.        ,  0.        ,  0.        , -0.375     ,\n",
              "         -1.        ,  0.        ,  0.        ],\n",
              "        [-0.06666667,  0.        ,  0.        ,  0.2       , -0.72222222,\n",
              "          0.        ,  0.        ,  0.19354839,  0.        ,  0.125     ,\n",
              "          0.        ,  1.        ,  0.        ],\n",
              "        [ 0.4       ,  0.        , -0.5       ,  2.        ,  1.59259259,\n",
              "          0.        , -1.        , -0.38709677,  1.        ,  1.75      ,\n",
              "         -2.        ,  0.        ,  1.        ],\n",
              "        [ 0.33333333,  0.        , -0.5       , -0.1       ,  0.35185185,\n",
              "          0.        , -1.        , -0.70967742,  1.        ,  1.5       ,\n",
              "         -1.        ,  2.        ,  1.        ],\n",
              "        [-0.8       , -1.        ,  0.        , -0.2       ,  1.22222222,\n",
              "          0.        ,  0.        ,  0.35483871,  0.        , -0.375     ,\n",
              "          0.        ,  0.        ,  0.        ],\n",
              "        [-0.06666667,  0.        ,  0.5       ,  2.1       , -0.75925926,\n",
              "          1.        ,  0.        ,  0.32258065,  0.        , -0.0625    ,\n",
              "          0.        ,  0.        ,  1.        ],\n",
              "        [-1.2       ,  0.        ,  0.        , -0.4       , -0.88888889,\n",
              "          0.        ,  0.        ,  0.70967742,  0.        , -0.375     ,\n",
              "          0.        ,  0.        ,  0.        ],\n",
              "        [ 0.73333333,  0.        , -0.5       ,  0.75      , -0.51851852,\n",
              "          0.        , -1.        , -0.64516129,  0.        ,  0.875     ,\n",
              "         -1.        ,  2.        , -1.        ],\n",
              "        [ 0.4       , -1.        , -0.5       ,  2.2       ,  0.16666667,\n",
              "          0.        ,  0.        , -0.29032258,  1.        , -0.375     ,\n",
              "         -1.        ,  0.        ,  0.        ],\n",
              "        [-0.53333333,  0.        ,  0.        , -0.1       ,  1.25925926,\n",
              "          0.        , -1.        ,  0.58064516,  0.        , -0.375     ,\n",
              "          0.        ,  0.        ,  0.        ],\n",
              "        [-0.66666667, -1.        , -0.5       ,  0.1       ,  1.87037037,\n",
              "          1.        , -1.        , -0.51612903,  1.        ,  1.5       ,\n",
              "         -1.        ,  0.        ,  1.        ],\n",
              "        [ 0.66666667,  0.        , -0.5       ,  0.        ,  0.25925926,\n",
              "          0.        , -1.        , -0.16129032,  0.        ,  0.5       ,\n",
              "         -1.        ,  1.        ,  1.        ],\n",
              "        [ 0.26666667,  0.        , -0.5       ,  0.5       , -0.88888889,\n",
              "          0.        ,  0.        , -0.12903226,  0.        , -0.125     ,\n",
              "         -1.        ,  0.        , -1.        ],\n",
              "        [ 0.26666667, -1.        , -0.5       , -0.1       ,  1.16666667,\n",
              "          0.        , -1.        ,  0.22580645,  0.        , -0.375     ,\n",
              "          0.        ,  1.        ,  0.        ],\n",
              "        [-0.06666667,  0.        ,  0.5       ,  0.4       , -0.31481481,\n",
              "          0.        ,  0.        ,  0.5483871 ,  0.        , -0.375     ,\n",
              "          0.        ,  4.        ,  0.        ],\n",
              "        [-0.06666667,  0.        , -0.5       , -0.25      , -0.51851852,\n",
              "          0.        ,  0.        ,  0.51612903,  0.        ,  0.25      ,\n",
              "          0.        ,  2.        ,  1.        ],\n",
              "        [-0.13333333,  0.        ,  1.        , -0.25      , -0.5       ,\n",
              "          0.        , -1.        , -0.87096774,  1.        ,  0.5       ,\n",
              "          0.        ,  1.        ,  0.        ],\n",
              "        [ 1.13333333,  0.        ,  0.        ,  1.3       ,  0.09259259,\n",
              "          0.        , -1.        , -0.29032258,  0.        , -0.375     ,\n",
              "          0.        ,  0.        ,  0.        ],\n",
              "        [-0.8       ,  0.        ,  0.5       ,  0.        , -0.48148148,\n",
              "          0.        , -1.        ,  0.51612903,  0.        ,  0.875     ,\n",
              "         -1.        ,  0.        ,  0.        ],\n",
              "        [-0.8       ,  0.        , -0.5       , -1.        , -1.25925926,\n",
              "          0.        , -1.        ,  0.19354839,  0.        , -0.375     ,\n",
              "          0.        ,  0.        ,  1.        ],\n",
              "        [ 0.86666667,  0.        ,  0.        ,  1.5       ,  0.11111111,\n",
              "          0.        ,  0.        , -1.03225806,  1.        , -0.375     ,\n",
              "         -1.        ,  3.        , -1.        ],\n",
              "        [-0.6       ,  0.        ,  0.        , -0.5       ,  0.42592593,\n",
              "          0.        ,  0.        ,  0.67741935,  0.        , -0.375     ,\n",
              "          0.        ,  0.        ,  1.        ],\n",
              "        [-0.06666667,  0.        ,  0.        , -0.5       ,  1.57407407,\n",
              "          0.        ,  0.        ,  0.64516129,  0.        , -0.25      ,\n",
              "          0.        ,  0.        ,  0.        ],\n",
              "        [ 1.4       , -1.        ,  0.        , -0.5       ,  0.53703704,\n",
              "          0.        , -1.        , -1.        ,  1.        , -0.25      ,\n",
              "          0.        ,  1.        ,  0.        ],\n",
              "        [-0.8       , -1.        ,  0.5       , -0.9       ,  0.51851852,\n",
              "          0.        , -1.        ,  0.64516129,  1.        , -0.375     ,\n",
              "          0.        ,  0.        ,  0.        ],\n",
              "        [-0.8       ,  0.        ,  0.        ,  0.25      , -0.68518519,\n",
              "          0.        ,  0.        , -0.64516129,  0.        , -0.375     ,\n",
              "         -1.        ,  0.        , -1.        ],\n",
              "        [-0.93333333, -1.        ,  0.5       , -1.8       , -0.75925926,\n",
              "          0.        ,  0.        ,  0.87096774,  0.        , -0.375     ,\n",
              "          0.        ,  0.        ,  0.        ],\n",
              "        [ 0.4       ,  0.        ,  1.        ,  2.        ,  0.88888889,\n",
              "          0.        , -1.        ,  0.22580645,  0.        , -0.25      ,\n",
              "         -1.        ,  0.        ,  1.        ],\n",
              "        [-0.6       , -1.        ,  0.5       , -0.6       ,  0.03703704,\n",
              "          0.        ,  0.        , -0.09677419,  0.        , -0.1875    ,\n",
              "         -1.        ,  1.        ,  0.        ],\n",
              "        [ 0.26666667, -1.        ,  0.        ,  0.        , -0.07407407,\n",
              "          0.        , -1.        ,  0.70967742,  0.        , -0.375     ,\n",
              "         -1.        ,  1.        ,  0.        ],\n",
              "        [ 0.4       ,  0.        ,  0.5       ,  1.        , -0.51851852,\n",
              "          1.        ,  0.        ,  0.16129032,  0.        ,  0.625     ,\n",
              "          0.        ,  0.        ,  0.        ],\n",
              "        [-0.2       , -1.        ,  0.        , -0.5       ,  0.07407407,\n",
              "          0.        ,  0.        ,  0.32258065,  0.        ,  0.3125    ,\n",
              "          0.        ,  0.        ,  0.        ],\n",
              "        [ 0.33333333, -1.        , -0.5       , -1.5       ,  0.14814815,\n",
              "          0.        , -1.        , -0.96774194,  0.        ,  0.25      ,\n",
              "         -1.        ,  0.        ,  0.        ]]))"
            ]
          },
          "metadata": {},
          "execution_count": 12
        }
      ]
    },
    {
      "cell_type": "code",
      "source": [
        "from sklearn.linear_model import LogisticRegression\n",
        "from sklearn.metrics import accuracy_score\n",
        "\n",
        "model = LogisticRegression()\n",
        "model.fit(X_train, y_train)\n",
        "predicted=model.predict(X_test)"
      ],
      "metadata": {
        "colab": {
          "base_uri": "https://localhost:8080/"
        },
        "id": "_HnWKR4fD0mT",
        "outputId": "2aca9d1d-be1f-4eb6-8281-a2bafcbaaa70"
      },
      "execution_count": 13,
      "outputs": [
        {
          "output_type": "stream",
          "name": "stderr",
          "text": [
            "/usr/local/lib/python3.7/dist-packages/sklearn/utils/validation.py:993: DataConversionWarning: A column-vector y was passed when a 1d array was expected. Please change the shape of y to (n_samples, ), for example using ravel().\n",
            "  y = column_or_1d(y, warn=True)\n"
          ]
        }
      ]
    },
    {
      "cell_type": "code",
      "source": [
        "accuracy_score(y_test, predicted)*100"
      ],
      "metadata": {
        "colab": {
          "base_uri": "https://localhost:8080/"
        },
        "id": "4RR4OBviD-ot",
        "outputId": "45caab92-0a53-4a91-ab31-d717545d695a"
      },
      "execution_count": 14,
      "outputs": [
        {
          "output_type": "execute_result",
          "data": {
            "text/plain": [
              "86.88524590163934"
            ]
          },
          "metadata": {},
          "execution_count": 14
        }
      ]
    },
    {
      "cell_type": "code",
      "source": [
        "from sklearn.neighbors import KNeighborsClassifier\n",
        "knn = KNeighborsClassifier(n_neighbors=5)\n",
        "knn.fit(X_train,y_train)\n",
        "y_pred = knn.predict(X_test)\n",
        "accuracy_score(y_test, y_pred)"
      ],
      "metadata": {
        "colab": {
          "base_uri": "https://localhost:8080/"
        },
        "id": "aTXqpVzxEFL6",
        "outputId": "638c9571-5165-49ff-fb60-d85e6b105149"
      },
      "execution_count": 15,
      "outputs": [
        {
          "output_type": "stream",
          "name": "stderr",
          "text": [
            "/usr/local/lib/python3.7/dist-packages/sklearn/neighbors/_classification.py:198: DataConversionWarning: A column-vector y was passed when a 1d array was expected. Please change the shape of y to (n_samples,), for example using ravel().\n",
            "  return self._fit(X, y)\n"
          ]
        },
        {
          "output_type": "execute_result",
          "data": {
            "text/plain": [
              "0.8852459016393442"
            ]
          },
          "metadata": {},
          "execution_count": 15
        }
      ]
    },
    {
      "cell_type": "code",
      "source": [
        "neighbors = list(range(1,26))\n",
        "train_scores = []\n",
        "test_scores = []"
      ],
      "metadata": {
        "id": "m7ZUFxrpFSbt"
      },
      "execution_count": 16,
      "outputs": []
    },
    {
      "cell_type": "code",
      "source": [
        "for i in neighbors:\n",
        "    clf = KNeighborsClassifier(n_neighbors = i)\n",
        "    clf.fit(X_train, y_train)\n",
        "    train_scores.append(clf.score(X_train, y_train))\n",
        "    test_scores.append(clf.score(X_test, y_test))\n",
        "#    preds_neighbors = clf.predict(X_test)\n",
        "#    train_scores.append(accuracy_score(y_true = y_test, y_pred = preds_neighbors))\n",
        "#    test_scores.append(accuracy_score(y_true = y_test, y_pred = preds_neighbors))"
      ],
      "metadata": {
        "colab": {
          "base_uri": "https://localhost:8080/"
        },
        "id": "I4e0shhUFZd7",
        "outputId": "90f22f2f-8027-4fbb-f7b1-f4b5d806455e"
      },
      "execution_count": 17,
      "outputs": [
        {
          "output_type": "stream",
          "name": "stderr",
          "text": [
            "/usr/local/lib/python3.7/dist-packages/sklearn/neighbors/_classification.py:198: DataConversionWarning: A column-vector y was passed when a 1d array was expected. Please change the shape of y to (n_samples,), for example using ravel().\n",
            "  return self._fit(X, y)\n",
            "/usr/local/lib/python3.7/dist-packages/sklearn/neighbors/_classification.py:198: DataConversionWarning: A column-vector y was passed when a 1d array was expected. Please change the shape of y to (n_samples,), for example using ravel().\n",
            "  return self._fit(X, y)\n",
            "/usr/local/lib/python3.7/dist-packages/sklearn/neighbors/_classification.py:198: DataConversionWarning: A column-vector y was passed when a 1d array was expected. Please change the shape of y to (n_samples,), for example using ravel().\n",
            "  return self._fit(X, y)\n",
            "/usr/local/lib/python3.7/dist-packages/sklearn/neighbors/_classification.py:198: DataConversionWarning: A column-vector y was passed when a 1d array was expected. Please change the shape of y to (n_samples,), for example using ravel().\n",
            "  return self._fit(X, y)\n",
            "/usr/local/lib/python3.7/dist-packages/sklearn/neighbors/_classification.py:198: DataConversionWarning: A column-vector y was passed when a 1d array was expected. Please change the shape of y to (n_samples,), for example using ravel().\n",
            "  return self._fit(X, y)\n",
            "/usr/local/lib/python3.7/dist-packages/sklearn/neighbors/_classification.py:198: DataConversionWarning: A column-vector y was passed when a 1d array was expected. Please change the shape of y to (n_samples,), for example using ravel().\n",
            "  return self._fit(X, y)\n",
            "/usr/local/lib/python3.7/dist-packages/sklearn/neighbors/_classification.py:198: DataConversionWarning: A column-vector y was passed when a 1d array was expected. Please change the shape of y to (n_samples,), for example using ravel().\n",
            "  return self._fit(X, y)\n",
            "/usr/local/lib/python3.7/dist-packages/sklearn/neighbors/_classification.py:198: DataConversionWarning: A column-vector y was passed when a 1d array was expected. Please change the shape of y to (n_samples,), for example using ravel().\n",
            "  return self._fit(X, y)\n",
            "/usr/local/lib/python3.7/dist-packages/sklearn/neighbors/_classification.py:198: DataConversionWarning: A column-vector y was passed when a 1d array was expected. Please change the shape of y to (n_samples,), for example using ravel().\n",
            "  return self._fit(X, y)\n",
            "/usr/local/lib/python3.7/dist-packages/sklearn/neighbors/_classification.py:198: DataConversionWarning: A column-vector y was passed when a 1d array was expected. Please change the shape of y to (n_samples,), for example using ravel().\n",
            "  return self._fit(X, y)\n",
            "/usr/local/lib/python3.7/dist-packages/sklearn/neighbors/_classification.py:198: DataConversionWarning: A column-vector y was passed when a 1d array was expected. Please change the shape of y to (n_samples,), for example using ravel().\n",
            "  return self._fit(X, y)\n",
            "/usr/local/lib/python3.7/dist-packages/sklearn/neighbors/_classification.py:198: DataConversionWarning: A column-vector y was passed when a 1d array was expected. Please change the shape of y to (n_samples,), for example using ravel().\n",
            "  return self._fit(X, y)\n",
            "/usr/local/lib/python3.7/dist-packages/sklearn/neighbors/_classification.py:198: DataConversionWarning: A column-vector y was passed when a 1d array was expected. Please change the shape of y to (n_samples,), for example using ravel().\n",
            "  return self._fit(X, y)\n",
            "/usr/local/lib/python3.7/dist-packages/sklearn/neighbors/_classification.py:198: DataConversionWarning: A column-vector y was passed when a 1d array was expected. Please change the shape of y to (n_samples,), for example using ravel().\n",
            "  return self._fit(X, y)\n",
            "/usr/local/lib/python3.7/dist-packages/sklearn/neighbors/_classification.py:198: DataConversionWarning: A column-vector y was passed when a 1d array was expected. Please change the shape of y to (n_samples,), for example using ravel().\n",
            "  return self._fit(X, y)\n",
            "/usr/local/lib/python3.7/dist-packages/sklearn/neighbors/_classification.py:198: DataConversionWarning: A column-vector y was passed when a 1d array was expected. Please change the shape of y to (n_samples,), for example using ravel().\n",
            "  return self._fit(X, y)\n",
            "/usr/local/lib/python3.7/dist-packages/sklearn/neighbors/_classification.py:198: DataConversionWarning: A column-vector y was passed when a 1d array was expected. Please change the shape of y to (n_samples,), for example using ravel().\n",
            "  return self._fit(X, y)\n",
            "/usr/local/lib/python3.7/dist-packages/sklearn/neighbors/_classification.py:198: DataConversionWarning: A column-vector y was passed when a 1d array was expected. Please change the shape of y to (n_samples,), for example using ravel().\n",
            "  return self._fit(X, y)\n",
            "/usr/local/lib/python3.7/dist-packages/sklearn/neighbors/_classification.py:198: DataConversionWarning: A column-vector y was passed when a 1d array was expected. Please change the shape of y to (n_samples,), for example using ravel().\n",
            "  return self._fit(X, y)\n",
            "/usr/local/lib/python3.7/dist-packages/sklearn/neighbors/_classification.py:198: DataConversionWarning: A column-vector y was passed when a 1d array was expected. Please change the shape of y to (n_samples,), for example using ravel().\n",
            "  return self._fit(X, y)\n",
            "/usr/local/lib/python3.7/dist-packages/sklearn/neighbors/_classification.py:198: DataConversionWarning: A column-vector y was passed when a 1d array was expected. Please change the shape of y to (n_samples,), for example using ravel().\n",
            "  return self._fit(X, y)\n",
            "/usr/local/lib/python3.7/dist-packages/sklearn/neighbors/_classification.py:198: DataConversionWarning: A column-vector y was passed when a 1d array was expected. Please change the shape of y to (n_samples,), for example using ravel().\n",
            "  return self._fit(X, y)\n",
            "/usr/local/lib/python3.7/dist-packages/sklearn/neighbors/_classification.py:198: DataConversionWarning: A column-vector y was passed when a 1d array was expected. Please change the shape of y to (n_samples,), for example using ravel().\n",
            "  return self._fit(X, y)\n",
            "/usr/local/lib/python3.7/dist-packages/sklearn/neighbors/_classification.py:198: DataConversionWarning: A column-vector y was passed when a 1d array was expected. Please change the shape of y to (n_samples,), for example using ravel().\n",
            "  return self._fit(X, y)\n",
            "/usr/local/lib/python3.7/dist-packages/sklearn/neighbors/_classification.py:198: DataConversionWarning: A column-vector y was passed when a 1d array was expected. Please change the shape of y to (n_samples,), for example using ravel().\n",
            "  return self._fit(X, y)\n"
          ]
        }
      ]
    },
    {
      "cell_type": "code",
      "source": [
        "plt.figure(figsize=[13,8])\n",
        "plt.plot(neighbors, test_scores, label = 'Testing Accuracy')\n",
        "plt.plot(neighbors, train_scores, label = 'Training Accuracy')\n",
        "plt.legend()\n",
        "plt.title('-value VS Accuracy')\n",
        "plt.xlabel('Number of Neighbors')\n",
        "plt.ylabel('Accuracy')\n",
        "plt.xticks(neighbors)\n",
        "plt.savefig('graph.png')\n",
        "plt.show()"
      ],
      "metadata": {
        "colab": {
          "base_uri": "https://localhost:8080/",
          "height": 513
        },
        "id": "8bTrhUyoGYzb",
        "outputId": "3960f6b9-770a-4cb7-a6a1-cdf7d873a4ca"
      },
      "execution_count": 18,
      "outputs": [
        {
          "output_type": "display_data",
          "data": {
            "text/plain": [
              "<Figure size 936x576 with 1 Axes>"
            ],
            "image/png": "[encoded data removed]"
          },
          "metadata": {
            "needs_background": "light"
          }
        }
      ]
    },
    {
      "cell_type": "code",
      "source": [
        "from sklearn import metrics\n",
        "knn= KNeighborsClassifier(n_neighbors= 5)\n",
        "knn.fit(X_train,y_train)\n",
        "knnpred = knn.predict(X_test)\n",
        "print(metrics.classification_report(y_test,knnpred))"
      ],
      "metadata": {
        "colab": {
          "base_uri": "https://localhost:8080/"
        },
        "id": "KO5Hy9_DHv1b",
        "outputId": "a3d2002b-2bb2-4974-d116-1aa3d0901991"
      },
      "execution_count": 19,
      "outputs": [
        {
          "output_type": "stream",
          "name": "stdout",
          "text": [
            "              precision    recall  f1-score   support\n",
            "\n",
            "           0       0.81      0.96      0.88        27\n",
            "           1       0.97      0.82      0.89        34\n",
            "\n",
            "    accuracy                           0.89        61\n",
            "   macro avg       0.89      0.89      0.89        61\n",
            "weighted avg       0.90      0.89      0.89        61\n",
            "\n"
          ]
        },
        {
          "output_type": "stream",
          "name": "stderr",
          "text": [
            "/usr/local/lib/python3.7/dist-packages/sklearn/neighbors/_classification.py:198: DataConversionWarning: A column-vector y was passed when a 1d array was expected. Please change the shape of y to (n_samples,), for example using ravel().\n",
            "  return self._fit(X, y)\n"
          ]
        }
      ]
    },
    {
      "cell_type": "code",
      "source": [
        "neighbors = list(range(1,26))\n",
        "scores = []"
      ],
      "metadata": {
        "id": "7zbZEs-eIczz"
      },
      "execution_count": 20,
      "outputs": []
    },
    {
      "cell_type": "code",
      "source": [
        "for i in neighbors:\n",
        "    clf = KNeighborsClassifier(n_neighbors = i)\n",
        "    clf.fit(X_train, y_train)\n",
        "    preds_neighbors = clf.predict(X_test)\n",
        "    scores.append(accuracy_score(y_true = y_test, y_pred = preds_neighbors))"
      ],
      "metadata": {
        "colab": {
          "base_uri": "https://localhost:8080/"
        },
        "id": "enIQFyc-IIwF",
        "outputId": "265baa41-fedf-43ac-c9db-b7fe9e89b5ae"
      },
      "execution_count": 21,
      "outputs": [
        {
          "output_type": "stream",
          "name": "stderr",
          "text": [
            "/usr/local/lib/python3.7/dist-packages/sklearn/neighbors/_classification.py:198: DataConversionWarning: A column-vector y was passed when a 1d array was expected. Please change the shape of y to (n_samples,), for example using ravel().\n",
            "  return self._fit(X, y)\n",
            "/usr/local/lib/python3.7/dist-packages/sklearn/neighbors/_classification.py:198: DataConversionWarning: A column-vector y was passed when a 1d array was expected. Please change the shape of y to (n_samples,), for example using ravel().\n",
            "  return self._fit(X, y)\n",
            "/usr/local/lib/python3.7/dist-packages/sklearn/neighbors/_classification.py:198: DataConversionWarning: A column-vector y was passed when a 1d array was expected. Please change the shape of y to (n_samples,), for example using ravel().\n",
            "  return self._fit(X, y)\n",
            "/usr/local/lib/python3.7/dist-packages/sklearn/neighbors/_classification.py:198: DataConversionWarning: A column-vector y was passed when a 1d array was expected. Please change the shape of y to (n_samples,), for example using ravel().\n",
            "  return self._fit(X, y)\n",
            "/usr/local/lib/python3.7/dist-packages/sklearn/neighbors/_classification.py:198: DataConversionWarning: A column-vector y was passed when a 1d array was expected. Please change the shape of y to (n_samples,), for example using ravel().\n",
            "  return self._fit(X, y)\n",
            "/usr/local/lib/python3.7/dist-packages/sklearn/neighbors/_classification.py:198: DataConversionWarning: A column-vector y was passed when a 1d array was expected. Please change the shape of y to (n_samples,), for example using ravel().\n",
            "  return self._fit(X, y)\n",
            "/usr/local/lib/python3.7/dist-packages/sklearn/neighbors/_classification.py:198: DataConversionWarning: A column-vector y was passed when a 1d array was expected. Please change the shape of y to (n_samples,), for example using ravel().\n",
            "  return self._fit(X, y)\n",
            "/usr/local/lib/python3.7/dist-packages/sklearn/neighbors/_classification.py:198: DataConversionWarning: A column-vector y was passed when a 1d array was expected. Please change the shape of y to (n_samples,), for example using ravel().\n",
            "  return self._fit(X, y)\n",
            "/usr/local/lib/python3.7/dist-packages/sklearn/neighbors/_classification.py:198: DataConversionWarning: A column-vector y was passed when a 1d array was expected. Please change the shape of y to (n_samples,), for example using ravel().\n",
            "  return self._fit(X, y)\n",
            "/usr/local/lib/python3.7/dist-packages/sklearn/neighbors/_classification.py:198: DataConversionWarning: A column-vector y was passed when a 1d array was expected. Please change the shape of y to (n_samples,), for example using ravel().\n",
            "  return self._fit(X, y)\n",
            "/usr/local/lib/python3.7/dist-packages/sklearn/neighbors/_classification.py:198: DataConversionWarning: A column-vector y was passed when a 1d array was expected. Please change the shape of y to (n_samples,), for example using ravel().\n",
            "  return self._fit(X, y)\n",
            "/usr/local/lib/python3.7/dist-packages/sklearn/neighbors/_classification.py:198: DataConversionWarning: A column-vector y was passed when a 1d array was expected. Please change the shape of y to (n_samples,), for example using ravel().\n",
            "  return self._fit(X, y)\n",
            "/usr/local/lib/python3.7/dist-packages/sklearn/neighbors/_classification.py:198: DataConversionWarning: A column-vector y was passed when a 1d array was expected. Please change the shape of y to (n_samples,), for example using ravel().\n",
            "  return self._fit(X, y)\n",
            "/usr/local/lib/python3.7/dist-packages/sklearn/neighbors/_classification.py:198: DataConversionWarning: A column-vector y was passed when a 1d array was expected. Please change the shape of y to (n_samples,), for example using ravel().\n",
            "  return self._fit(X, y)\n",
            "/usr/local/lib/python3.7/dist-packages/sklearn/neighbors/_classification.py:198: DataConversionWarning: A column-vector y was passed when a 1d array was expected. Please change the shape of y to (n_samples,), for example using ravel().\n",
            "  return self._fit(X, y)\n",
            "/usr/local/lib/python3.7/dist-packages/sklearn/neighbors/_classification.py:198: DataConversionWarning: A column-vector y was passed when a 1d array was expected. Please change the shape of y to (n_samples,), for example using ravel().\n",
            "  return self._fit(X, y)\n",
            "/usr/local/lib/python3.7/dist-packages/sklearn/neighbors/_classification.py:198: DataConversionWarning: A column-vector y was passed when a 1d array was expected. Please change the shape of y to (n_samples,), for example using ravel().\n",
            "  return self._fit(X, y)\n",
            "/usr/local/lib/python3.7/dist-packages/sklearn/neighbors/_classification.py:198: DataConversionWarning: A column-vector y was passed when a 1d array was expected. Please change the shape of y to (n_samples,), for example using ravel().\n",
            "  return self._fit(X, y)\n",
            "/usr/local/lib/python3.7/dist-packages/sklearn/neighbors/_classification.py:198: DataConversionWarning: A column-vector y was passed when a 1d array was expected. Please change the shape of y to (n_samples,), for example using ravel().\n",
            "  return self._fit(X, y)\n",
            "/usr/local/lib/python3.7/dist-packages/sklearn/neighbors/_classification.py:198: DataConversionWarning: A column-vector y was passed when a 1d array was expected. Please change the shape of y to (n_samples,), for example using ravel().\n",
            "  return self._fit(X, y)\n",
            "/usr/local/lib/python3.7/dist-packages/sklearn/neighbors/_classification.py:198: DataConversionWarning: A column-vector y was passed when a 1d array was expected. Please change the shape of y to (n_samples,), for example using ravel().\n",
            "  return self._fit(X, y)\n",
            "/usr/local/lib/python3.7/dist-packages/sklearn/neighbors/_classification.py:198: DataConversionWarning: A column-vector y was passed when a 1d array was expected. Please change the shape of y to (n_samples,), for example using ravel().\n",
            "  return self._fit(X, y)\n",
            "/usr/local/lib/python3.7/dist-packages/sklearn/neighbors/_classification.py:198: DataConversionWarning: A column-vector y was passed when a 1d array was expected. Please change the shape of y to (n_samples,), for example using ravel().\n",
            "  return self._fit(X, y)\n",
            "/usr/local/lib/python3.7/dist-packages/sklearn/neighbors/_classification.py:198: DataConversionWarning: A column-vector y was passed when a 1d array was expected. Please change the shape of y to (n_samples,), for example using ravel().\n",
            "  return self._fit(X, y)\n",
            "/usr/local/lib/python3.7/dist-packages/sklearn/neighbors/_classification.py:198: DataConversionWarning: A column-vector y was passed when a 1d array was expected. Please change the shape of y to (n_samples,), for example using ravel().\n",
            "  return self._fit(X, y)\n"
          ]
        }
      ]
    },
    {
      "cell_type": "code",
      "source": [
        "import matplotlib.pyplot as plt\n",
        "plt.plot(neighbors, scores)\n",
        "plt.xlabel('Value of K for KNN')\n",
        "plt.ylabel('Testing Accuracy')"
      ],
      "metadata": {
        "colab": {
          "base_uri": "https://localhost:8080/",
          "height": 296
        },
        "id": "ZW7fEJCLFcA7",
        "outputId": "9846c5e8-90be-4d65-e538-b19e941ad9d5"
      },
      "execution_count": 22,
      "outputs": [
        {
          "output_type": "execute_result",
          "data": {
            "text/plain": [
              "Text(0, 0.5, 'Testing Accuracy')"
            ]
          },
          "metadata": {},
          "execution_count": 22
        },
        {
          "output_type": "display_data",
          "data": {
            "text/plain": [
              "<Figure size 432x288 with 1 Axes>"
            ],
            "image/png": "[encoded data removed]"
          },
          "metadata": {
            "needs_background": "light"
          }
        }
      ]
    },
    {
      "cell_type": "markdown",
      "source": [
        "Check to see how MinMax scaler and other scalers impact accuracy"
      ],
      "metadata": {
        "id": "YfUButJqtP8X"
      }
    },
    {
      "cell_type": "markdown",
      "source": [
        "If we want to model our data with K-nearest neihgbors it is important that we scale our data. Especially when calculating distance between data. \n",
        "- https://towardsdatascience.com/all-about-feature-scaling-bcc0ad75cb35"
      ],
      "metadata": {
        "id": "gbm1forkyT7J"
      }
    }
  ]
}