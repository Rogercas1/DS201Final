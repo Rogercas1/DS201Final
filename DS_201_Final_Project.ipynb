{
  "nbformat": 4,
  "nbformat_minor": 0,
  "metadata": {
    "colab": {
      "provenance": [],
      "include_colab_link": true
    },
    "kernelspec": {
      "name": "python3",
      "display_name": "Python 3"
    },
    "language_info": {
      "name": "python"
    }
  },
  "cells": [
    {
      "cell_type": "markdown",
      "metadata": {
        "id": "view-in-github",
        "colab_type": "text"
      },
      "source": [
        "<a href=\"https://colab.research.google.com/github/Rogercas1/DS201Final/blob/main/DS_201_Final_Project.ipynb\" target=\"_parent\"><img src=\"https://colab.research.google.com/assets/colab-badge.svg\" alt=\"Open In Colab\"/></a>"
      ]
    },
    {
      "cell_type": "code",
      "source": [
        "import pandas as pd\n",
        "import numpy as np\n",
        "import matplotlib.pyplot as plt\n",
        "import seaborn as sns"
      ],
      "metadata": {
        "id": "HD-CC3C-6ArT"
      },
      "execution_count": null,
      "outputs": []
    },
    {
      "cell_type": "code",
      "source": [
        "df = pd.read_csv(\"heart.csv\")"
      ],
      "metadata": {
        "id": "0PzH3Oeah_lg"
      },
      "execution_count": null,
      "outputs": []
    },
    {
      "cell_type": "code",
      "source": [
        "df.head()"
      ],
      "metadata": {
        "colab": {
          "base_uri": "https://localhost:8080/",
          "height": 206
        },
        "id": "vZNDS558iBT2",
        "outputId": "494fe5a3-6268-47fe-8cbe-a3384d6d6547"
      },
      "execution_count": null,
      "outputs": [
        {
          "output_type": "execute_result",
          "data": {
            "text/plain": [
              "   age  sex  cp  trtbps  chol  fbs  restecg  thalachh  exng  oldpeak  slp  \\\n",
              "0   63    1   3     145   233    1        0       150     0      2.3    0   \n",
              "1   37    1   2     130   250    0        1       187     0      3.5    0   \n",
              "2   41    0   1     130   204    0        0       172     0      1.4    2   \n",
              "3   56    1   1     120   236    0        1       178     0      0.8    2   \n",
              "4   57    0   0     120   354    0        1       163     1      0.6    2   \n",
              "\n",
              "   caa  thall  output  \n",
              "0    0      1       1  \n",
              "1    0      2       1  \n",
              "2    0      2       1  \n",
              "3    0      2       1  \n",
              "4    0      2       1  "
            ],
            "text/html": [
              "\n",
              "  <div id=\"df-e03b7dcc-64b7-41e7-a57e-2393defb0438\">\n",
              "    <div class=\"colab-df-container\">\n",
              "      <div>\n",
              "<style scoped>\n",
              "    .dataframe tbody tr th:only-of-type {\n",
              "        vertical-align: middle;\n",
              "    }\n",
              "\n",
              "    .dataframe tbody tr th {\n",
              "        vertical-align: top;\n",
              "    }\n",
              "\n",
              "    .dataframe thead th {\n",
              "        text-align: right;\n",
              "    }\n",
              "</style>\n",
              "<table border=\"1\" class=\"dataframe\">\n",
              "  <thead>\n",
              "    <tr style=\"text-align: right;\">\n",
              "      <th></th>\n",
              "      <th>age</th>\n",
              "      <th>sex</th>\n",
              "      <th>cp</th>\n",
              "      <th>trtbps</th>\n",
              "      <th>chol</th>\n",
              "      <th>fbs</th>\n",
              "      <th>restecg</th>\n",
              "      <th>thalachh</th>\n",
              "      <th>exng</th>\n",
              "      <th>oldpeak</th>\n",
              "      <th>slp</th>\n",
              "      <th>caa</th>\n",
              "      <th>thall</th>\n",
              "      <th>output</th>\n",
              "    </tr>\n",
              "  </thead>\n",
              "  <tbody>\n",
              "    <tr>\n",
              "      <th>0</th>\n",
              "      <td>63</td>\n",
              "      <td>1</td>\n",
              "      <td>3</td>\n",
              "      <td>145</td>\n",
              "      <td>233</td>\n",
              "      <td>1</td>\n",
              "      <td>0</td>\n",
              "      <td>150</td>\n",
              "      <td>0</td>\n",
              "      <td>2.3</td>\n",
              "      <td>0</td>\n",
              "      <td>0</td>\n",
              "      <td>1</td>\n",
              "      <td>1</td>\n",
              "    </tr>\n",
              "    <tr>\n",
              "      <th>1</th>\n",
              "      <td>37</td>\n",
              "      <td>1</td>\n",
              "      <td>2</td>\n",
              "      <td>130</td>\n",
              "      <td>250</td>\n",
              "      <td>0</td>\n",
              "      <td>1</td>\n",
              "      <td>187</td>\n",
              "      <td>0</td>\n",
              "      <td>3.5</td>\n",
              "      <td>0</td>\n",
              "      <td>0</td>\n",
              "      <td>2</td>\n",
              "      <td>1</td>\n",
              "    </tr>\n",
              "    <tr>\n",
              "      <th>2</th>\n",
              "      <td>41</td>\n",
              "      <td>0</td>\n",
              "      <td>1</td>\n",
              "      <td>130</td>\n",
              "      <td>204</td>\n",
              "      <td>0</td>\n",
              "      <td>0</td>\n",
              "      <td>172</td>\n",
              "      <td>0</td>\n",
              "      <td>1.4</td>\n",
              "      <td>2</td>\n",
              "      <td>0</td>\n",
              "      <td>2</td>\n",
              "      <td>1</td>\n",
              "    </tr>\n",
              "    <tr>\n",
              "      <th>3</th>\n",
              "      <td>56</td>\n",
              "      <td>1</td>\n",
              "      <td>1</td>\n",
              "      <td>120</td>\n",
              "      <td>236</td>\n",
              "      <td>0</td>\n",
              "      <td>1</td>\n",
              "      <td>178</td>\n",
              "      <td>0</td>\n",
              "      <td>0.8</td>\n",
              "      <td>2</td>\n",
              "      <td>0</td>\n",
              "      <td>2</td>\n",
              "      <td>1</td>\n",
              "    </tr>\n",
              "    <tr>\n",
              "      <th>4</th>\n",
              "      <td>57</td>\n",
              "      <td>0</td>\n",
              "      <td>0</td>\n",
              "      <td>120</td>\n",
              "      <td>354</td>\n",
              "      <td>0</td>\n",
              "      <td>1</td>\n",
              "      <td>163</td>\n",
              "      <td>1</td>\n",
              "      <td>0.6</td>\n",
              "      <td>2</td>\n",
              "      <td>0</td>\n",
              "      <td>2</td>\n",
              "      <td>1</td>\n",
              "    </tr>\n",
              "  </tbody>\n",
              "</table>\n",
              "</div>\n",
              "      <button class=\"colab-df-convert\" onclick=\"convertToInteractive('df-e03b7dcc-64b7-41e7-a57e-2393defb0438')\"\n",
              "              title=\"Convert this dataframe to an interactive table.\"\n",
              "              style=\"display:none;\">\n",
              "        \n",
              "  <svg xmlns=\"http://www.w3.org/2000/svg\" height=\"24px\"viewBox=\"0 0 24 24\"\n",
              "       width=\"24px\">\n",
              "    <path d=\"M0 0h24v24H0V0z\" fill=\"none\"/>\n",
              "    <path d=\"M18.56 5.44l.94 2.06.94-2.06 2.06-.94-2.06-.94-.94-2.06-.94 2.06-2.06.94zm-11 1L8.5 8.5l.94-2.06 2.06-.94-2.06-.94L8.5 2.5l-.94 2.06-2.06.94zm10 10l.94 2.06.94-2.06 2.06-.94-2.06-.94-.94-2.06-.94 2.06-2.06.94z\"/><path d=\"M17.41 7.96l-1.37-1.37c-.4-.4-.92-.59-1.43-.59-.52 0-1.04.2-1.43.59L10.3 9.45l-7.72 7.72c-.78.78-.78 2.05 0 2.83L4 21.41c.39.39.9.59 1.41.59.51 0 1.02-.2 1.41-.59l7.78-7.78 2.81-2.81c.8-.78.8-2.07 0-2.86zM5.41 20L4 18.59l7.72-7.72 1.47 1.35L5.41 20z\"/>\n",
              "  </svg>\n",
              "      </button>\n",
              "      \n",
              "  <style>\n",
              "    .colab-df-container {\n",
              "      display:flex;\n",
              "      flex-wrap:wrap;\n",
              "      gap: 12px;\n",
              "    }\n",
              "\n",
              "    .colab-df-convert {\n",
              "      background-color: #E8F0FE;\n",
              "      border: none;\n",
              "      border-radius: 50%;\n",
              "      cursor: pointer;\n",
              "      display: none;\n",
              "      fill: #1967D2;\n",
              "      height: 32px;\n",
              "      padding: 0 0 0 0;\n",
              "      width: 32px;\n",
              "    }\n",
              "\n",
              "    .colab-df-convert:hover {\n",
              "      background-color: #E2EBFA;\n",
              "      box-shadow: 0px 1px 2px rgba(60, 64, 67, 0.3), 0px 1px 3px 1px rgba(60, 64, 67, 0.15);\n",
              "      fill: #174EA6;\n",
              "    }\n",
              "\n",
              "    [theme=dark] .colab-df-convert {\n",
              "      background-color: #3B4455;\n",
              "      fill: #D2E3FC;\n",
              "    }\n",
              "\n",
              "    [theme=dark] .colab-df-convert:hover {\n",
              "      background-color: #434B5C;\n",
              "      box-shadow: 0px 1px 3px 1px rgba(0, 0, 0, 0.15);\n",
              "      filter: drop-shadow(0px 1px 2px rgba(0, 0, 0, 0.3));\n",
              "      fill: #FFFFFF;\n",
              "    }\n",
              "  </style>\n",
              "\n",
              "      <script>\n",
              "        const buttonEl =\n",
              "          document.querySelector('#df-e03b7dcc-64b7-41e7-a57e-2393defb0438 button.colab-df-convert');\n",
              "        buttonEl.style.display =\n",
              "          google.colab.kernel.accessAllowed ? 'block' : 'none';\n",
              "\n",
              "        async function convertToInteractive(key) {\n",
              "          const element = document.querySelector('#df-e03b7dcc-64b7-41e7-a57e-2393defb0438');\n",
              "          const dataTable =\n",
              "            await google.colab.kernel.invokeFunction('convertToInteractive',\n",
              "                                                     [key], {});\n",
              "          if (!dataTable) return;\n",
              "\n",
              "          const docLinkHtml = 'Like what you see? Visit the ' +\n",
              "            '<a target=\"_blank\" href=https://colab.research.google.com/notebooks/data_table.ipynb>data table notebook</a>'\n",
              "            + ' to learn more about interactive tables.';\n",
              "          element.innerHTML = '';\n",
              "          dataTable['output_type'] = 'display_data';\n",
              "          await google.colab.output.renderOutput(dataTable, element);\n",
              "          const docLink = document.createElement('div');\n",
              "          docLink.innerHTML = docLinkHtml;\n",
              "          element.appendChild(docLink);\n",
              "        }\n",
              "      </script>\n",
              "    </div>\n",
              "  </div>\n",
              "  "
            ]
          },
          "metadata": {},
          "execution_count": 3
        }
      ]
    },
    {
      "cell_type": "code",
      "source": [
        "df.info()"
      ],
      "metadata": {
        "colab": {
          "base_uri": "https://localhost:8080/"
        },
        "id": "G0SJtJzYi-Y5",
        "outputId": "e8284601-1425-4b35-cfc4-7f1f81e421b6"
      },
      "execution_count": null,
      "outputs": [
        {
          "output_type": "stream",
          "name": "stdout",
          "text": [
            "<class 'pandas.core.frame.DataFrame'>\n",
            "RangeIndex: 303 entries, 0 to 302\n",
            "Data columns (total 14 columns):\n",
            " #   Column    Non-Null Count  Dtype  \n",
            "---  ------    --------------  -----  \n",
            " 0   age       303 non-null    int64  \n",
            " 1   sex       303 non-null    int64  \n",
            " 2   cp        303 non-null    int64  \n",
            " 3   trtbps    303 non-null    int64  \n",
            " 4   chol      303 non-null    int64  \n",
            " 5   fbs       303 non-null    int64  \n",
            " 6   restecg   303 non-null    int64  \n",
            " 7   thalachh  303 non-null    int64  \n",
            " 8   exng      303 non-null    int64  \n",
            " 9   oldpeak   303 non-null    float64\n",
            " 10  slp       303 non-null    int64  \n",
            " 11  caa       303 non-null    int64  \n",
            " 12  thall     303 non-null    int64  \n",
            " 13  output    303 non-null    int64  \n",
            "dtypes: float64(1), int64(13)\n",
            "memory usage: 33.3 KB\n"
          ]
        }
      ]
    },
    {
      "cell_type": "code",
      "source": [
        "df.describe()"
      ],
      "metadata": {
        "colab": {
          "base_uri": "https://localhost:8080/",
          "height": 300
        },
        "id": "2odjprh9jCxt",
        "outputId": "5b3deba7-8e2b-4ddf-95a0-3784219b76e2"
      },
      "execution_count": null,
      "outputs": [
        {
          "output_type": "execute_result",
          "data": {
            "text/plain": [
              "              age         sex          cp      trtbps        chol         fbs  \\\n",
              "count  303.000000  303.000000  303.000000  303.000000  303.000000  303.000000   \n",
              "mean    54.366337    0.683168    0.966997  131.623762  246.264026    0.148515   \n",
              "std      9.082101    0.466011    1.032052   17.538143   51.830751    0.356198   \n",
              "min     29.000000    0.000000    0.000000   94.000000  126.000000    0.000000   \n",
              "25%     47.500000    0.000000    0.000000  120.000000  211.000000    0.000000   \n",
              "50%     55.000000    1.000000    1.000000  130.000000  240.000000    0.000000   \n",
              "75%     61.000000    1.000000    2.000000  140.000000  274.500000    0.000000   \n",
              "max     77.000000    1.000000    3.000000  200.000000  564.000000    1.000000   \n",
              "\n",
              "          restecg    thalachh        exng     oldpeak         slp         caa  \\\n",
              "count  303.000000  303.000000  303.000000  303.000000  303.000000  303.000000   \n",
              "mean     0.528053  149.646865    0.326733    1.039604    1.399340    0.729373   \n",
              "std      0.525860   22.905161    0.469794    1.161075    0.616226    1.022606   \n",
              "min      0.000000   71.000000    0.000000    0.000000    0.000000    0.000000   \n",
              "25%      0.000000  133.500000    0.000000    0.000000    1.000000    0.000000   \n",
              "50%      1.000000  153.000000    0.000000    0.800000    1.000000    0.000000   \n",
              "75%      1.000000  166.000000    1.000000    1.600000    2.000000    1.000000   \n",
              "max      2.000000  202.000000    1.000000    6.200000    2.000000    4.000000   \n",
              "\n",
              "            thall      output  \n",
              "count  303.000000  303.000000  \n",
              "mean     2.313531    0.544554  \n",
              "std      0.612277    0.498835  \n",
              "min      0.000000    0.000000  \n",
              "25%      2.000000    0.000000  \n",
              "50%      2.000000    1.000000  \n",
              "75%      3.000000    1.000000  \n",
              "max      3.000000    1.000000  "
            ],
            "text/html": [
              "\n",
              "  <div id=\"df-4a9efe86-3f20-4394-92de-a38fcd871e56\">\n",
              "    <div class=\"colab-df-container\">\n",
              "      <div>\n",
              "<style scoped>\n",
              "    .dataframe tbody tr th:only-of-type {\n",
              "        vertical-align: middle;\n",
              "    }\n",
              "\n",
              "    .dataframe tbody tr th {\n",
              "        vertical-align: top;\n",
              "    }\n",
              "\n",
              "    .dataframe thead th {\n",
              "        text-align: right;\n",
              "    }\n",
              "</style>\n",
              "<table border=\"1\" class=\"dataframe\">\n",
              "  <thead>\n",
              "    <tr style=\"text-align: right;\">\n",
              "      <th></th>\n",
              "      <th>age</th>\n",
              "      <th>sex</th>\n",
              "      <th>cp</th>\n",
              "      <th>trtbps</th>\n",
              "      <th>chol</th>\n",
              "      <th>fbs</th>\n",
              "      <th>restecg</th>\n",
              "      <th>thalachh</th>\n",
              "      <th>exng</th>\n",
              "      <th>oldpeak</th>\n",
              "      <th>slp</th>\n",
              "      <th>caa</th>\n",
              "      <th>thall</th>\n",
              "      <th>output</th>\n",
              "    </tr>\n",
              "  </thead>\n",
              "  <tbody>\n",
              "    <tr>\n",
              "      <th>count</th>\n",
              "      <td>303.000000</td>\n",
              "      <td>303.000000</td>\n",
              "      <td>303.000000</td>\n",
              "      <td>303.000000</td>\n",
              "      <td>303.000000</td>\n",
              "      <td>303.000000</td>\n",
              "      <td>303.000000</td>\n",
              "      <td>303.000000</td>\n",
              "      <td>303.000000</td>\n",
              "      <td>303.000000</td>\n",
              "      <td>303.000000</td>\n",
              "      <td>303.000000</td>\n",
              "      <td>303.000000</td>\n",
              "      <td>303.000000</td>\n",
              "    </tr>\n",
              "    <tr>\n",
              "      <th>mean</th>\n",
              "      <td>54.366337</td>\n",
              "      <td>0.683168</td>\n",
              "      <td>0.966997</td>\n",
              "      <td>131.623762</td>\n",
              "      <td>246.264026</td>\n",
              "      <td>0.148515</td>\n",
              "      <td>0.528053</td>\n",
              "      <td>149.646865</td>\n",
              "      <td>0.326733</td>\n",
              "      <td>1.039604</td>\n",
              "      <td>1.399340</td>\n",
              "      <td>0.729373</td>\n",
              "      <td>2.313531</td>\n",
              "      <td>0.544554</td>\n",
              "    </tr>\n",
              "    <tr>\n",
              "      <th>std</th>\n",
              "      <td>9.082101</td>\n",
              "      <td>0.466011</td>\n",
              "      <td>1.032052</td>\n",
              "      <td>17.538143</td>\n",
              "      <td>51.830751</td>\n",
              "      <td>0.356198</td>\n",
              "      <td>0.525860</td>\n",
              "      <td>22.905161</td>\n",
              "      <td>0.469794</td>\n",
              "      <td>1.161075</td>\n",
              "      <td>0.616226</td>\n",
              "      <td>1.022606</td>\n",
              "      <td>0.612277</td>\n",
              "      <td>0.498835</td>\n",
              "    </tr>\n",
              "    <tr>\n",
              "      <th>min</th>\n",
              "      <td>29.000000</td>\n",
              "      <td>0.000000</td>\n",
              "      <td>0.000000</td>\n",
              "      <td>94.000000</td>\n",
              "      <td>126.000000</td>\n",
              "      <td>0.000000</td>\n",
              "      <td>0.000000</td>\n",
              "      <td>71.000000</td>\n",
              "      <td>0.000000</td>\n",
              "      <td>0.000000</td>\n",
              "      <td>0.000000</td>\n",
              "      <td>0.000000</td>\n",
              "      <td>0.000000</td>\n",
              "      <td>0.000000</td>\n",
              "    </tr>\n",
              "    <tr>\n",
              "      <th>25%</th>\n",
              "      <td>47.500000</td>\n",
              "      <td>0.000000</td>\n",
              "      <td>0.000000</td>\n",
              "      <td>120.000000</td>\n",
              "      <td>211.000000</td>\n",
              "      <td>0.000000</td>\n",
              "      <td>0.000000</td>\n",
              "      <td>133.500000</td>\n",
              "      <td>0.000000</td>\n",
              "      <td>0.000000</td>\n",
              "      <td>1.000000</td>\n",
              "      <td>0.000000</td>\n",
              "      <td>2.000000</td>\n",
              "      <td>0.000000</td>\n",
              "    </tr>\n",
              "    <tr>\n",
              "      <th>50%</th>\n",
              "      <td>55.000000</td>\n",
              "      <td>1.000000</td>\n",
              "      <td>1.000000</td>\n",
              "      <td>130.000000</td>\n",
              "      <td>240.000000</td>\n",
              "      <td>0.000000</td>\n",
              "      <td>1.000000</td>\n",
              "      <td>153.000000</td>\n",
              "      <td>0.000000</td>\n",
              "      <td>0.800000</td>\n",
              "      <td>1.000000</td>\n",
              "      <td>0.000000</td>\n",
              "      <td>2.000000</td>\n",
              "      <td>1.000000</td>\n",
              "    </tr>\n",
              "    <tr>\n",
              "      <th>75%</th>\n",
              "      <td>61.000000</td>\n",
              "      <td>1.000000</td>\n",
              "      <td>2.000000</td>\n",
              "      <td>140.000000</td>\n",
              "      <td>274.500000</td>\n",
              "      <td>0.000000</td>\n",
              "      <td>1.000000</td>\n",
              "      <td>166.000000</td>\n",
              "      <td>1.000000</td>\n",
              "      <td>1.600000</td>\n",
              "      <td>2.000000</td>\n",
              "      <td>1.000000</td>\n",
              "      <td>3.000000</td>\n",
              "      <td>1.000000</td>\n",
              "    </tr>\n",
              "    <tr>\n",
              "      <th>max</th>\n",
              "      <td>77.000000</td>\n",
              "      <td>1.000000</td>\n",
              "      <td>3.000000</td>\n",
              "      <td>200.000000</td>\n",
              "      <td>564.000000</td>\n",
              "      <td>1.000000</td>\n",
              "      <td>2.000000</td>\n",
              "      <td>202.000000</td>\n",
              "      <td>1.000000</td>\n",
              "      <td>6.200000</td>\n",
              "      <td>2.000000</td>\n",
              "      <td>4.000000</td>\n",
              "      <td>3.000000</td>\n",
              "      <td>1.000000</td>\n",
              "    </tr>\n",
              "  </tbody>\n",
              "</table>\n",
              "</div>\n",
              "      <button class=\"colab-df-convert\" onclick=\"convertToInteractive('df-4a9efe86-3f20-4394-92de-a38fcd871e56')\"\n",
              "              title=\"Convert this dataframe to an interactive table.\"\n",
              "              style=\"display:none;\">\n",
              "        \n",
              "  <svg xmlns=\"http://www.w3.org/2000/svg\" height=\"24px\"viewBox=\"0 0 24 24\"\n",
              "       width=\"24px\">\n",
              "    <path d=\"M0 0h24v24H0V0z\" fill=\"none\"/>\n",
              "    <path d=\"M18.56 5.44l.94 2.06.94-2.06 2.06-.94-2.06-.94-.94-2.06-.94 2.06-2.06.94zm-11 1L8.5 8.5l.94-2.06 2.06-.94-2.06-.94L8.5 2.5l-.94 2.06-2.06.94zm10 10l.94 2.06.94-2.06 2.06-.94-2.06-.94-.94-2.06-.94 2.06-2.06.94z\"/><path d=\"M17.41 7.96l-1.37-1.37c-.4-.4-.92-.59-1.43-.59-.52 0-1.04.2-1.43.59L10.3 9.45l-7.72 7.72c-.78.78-.78 2.05 0 2.83L4 21.41c.39.39.9.59 1.41.59.51 0 1.02-.2 1.41-.59l7.78-7.78 2.81-2.81c.8-.78.8-2.07 0-2.86zM5.41 20L4 18.59l7.72-7.72 1.47 1.35L5.41 20z\"/>\n",
              "  </svg>\n",
              "      </button>\n",
              "      \n",
              "  <style>\n",
              "    .colab-df-container {\n",
              "      display:flex;\n",
              "      flex-wrap:wrap;\n",
              "      gap: 12px;\n",
              "    }\n",
              "\n",
              "    .colab-df-convert {\n",
              "      background-color: #E8F0FE;\n",
              "      border: none;\n",
              "      border-radius: 50%;\n",
              "      cursor: pointer;\n",
              "      display: none;\n",
              "      fill: #1967D2;\n",
              "      height: 32px;\n",
              "      padding: 0 0 0 0;\n",
              "      width: 32px;\n",
              "    }\n",
              "\n",
              "    .colab-df-convert:hover {\n",
              "      background-color: #E2EBFA;\n",
              "      box-shadow: 0px 1px 2px rgba(60, 64, 67, 0.3), 0px 1px 3px 1px rgba(60, 64, 67, 0.15);\n",
              "      fill: #174EA6;\n",
              "    }\n",
              "\n",
              "    [theme=dark] .colab-df-convert {\n",
              "      background-color: #3B4455;\n",
              "      fill: #D2E3FC;\n",
              "    }\n",
              "\n",
              "    [theme=dark] .colab-df-convert:hover {\n",
              "      background-color: #434B5C;\n",
              "      box-shadow: 0px 1px 3px 1px rgba(0, 0, 0, 0.15);\n",
              "      filter: drop-shadow(0px 1px 2px rgba(0, 0, 0, 0.3));\n",
              "      fill: #FFFFFF;\n",
              "    }\n",
              "  </style>\n",
              "\n",
              "      <script>\n",
              "        const buttonEl =\n",
              "          document.querySelector('#df-4a9efe86-3f20-4394-92de-a38fcd871e56 button.colab-df-convert');\n",
              "        buttonEl.style.display =\n",
              "          google.colab.kernel.accessAllowed ? 'block' : 'none';\n",
              "\n",
              "        async function convertToInteractive(key) {\n",
              "          const element = document.querySelector('#df-4a9efe86-3f20-4394-92de-a38fcd871e56');\n",
              "          const dataTable =\n",
              "            await google.colab.kernel.invokeFunction('convertToInteractive',\n",
              "                                                     [key], {});\n",
              "          if (!dataTable) return;\n",
              "\n",
              "          const docLinkHtml = 'Like what you see? Visit the ' +\n",
              "            '<a target=\"_blank\" href=https://colab.research.google.com/notebooks/data_table.ipynb>data table notebook</a>'\n",
              "            + ' to learn more about interactive tables.';\n",
              "          element.innerHTML = '';\n",
              "          dataTable['output_type'] = 'display_data';\n",
              "          await google.colab.output.renderOutput(dataTable, element);\n",
              "          const docLink = document.createElement('div');\n",
              "          docLink.innerHTML = docLinkHtml;\n",
              "          element.appendChild(docLink);\n",
              "        }\n",
              "      </script>\n",
              "    </div>\n",
              "  </div>\n",
              "  "
            ]
          },
          "metadata": {},
          "execution_count": 5
        }
      ]
    },
    {
      "cell_type": "code",
      "source": [
        "df.isnull().any()"
      ],
      "metadata": {
        "colab": {
          "base_uri": "https://localhost:8080/"
        },
        "id": "qnoeDIG-iCGY",
        "outputId": "c329a138-6852-42ae-80a9-ff11d1da9a7e"
      },
      "execution_count": null,
      "outputs": [
        {
          "output_type": "execute_result",
          "data": {
            "text/plain": [
              "age         False\n",
              "sex         False\n",
              "cp          False\n",
              "trtbps      False\n",
              "chol        False\n",
              "fbs         False\n",
              "restecg     False\n",
              "thalachh    False\n",
              "exng        False\n",
              "oldpeak     False\n",
              "slp         False\n",
              "caa         False\n",
              "thall       False\n",
              "output      False\n",
              "dtype: bool"
            ]
          },
          "metadata": {},
          "execution_count": 6
        }
      ]
    },
    {
      "cell_type": "code",
      "source": [
        "df.duplicated().sum()"
      ],
      "metadata": {
        "colab": {
          "base_uri": "https://localhost:8080/"
        },
        "id": "myZZbNdcjAld",
        "outputId": "84adf9fa-79ec-4504-ce4b-71fd9ab44f16"
      },
      "execution_count": null,
      "outputs": [
        {
          "output_type": "execute_result",
          "data": {
            "text/plain": [
              "1"
            ]
          },
          "metadata": {},
          "execution_count": 7
        }
      ]
    },
    {
      "cell_type": "code",
      "source": [
        "df.drop_duplicates(inplace=True)"
      ],
      "metadata": {
        "id": "PFVdoCI-jBsk"
      },
      "execution_count": null,
      "outputs": []
    },
    {
      "cell_type": "code",
      "source": [
        "men = df.loc[df['sex']==1]\n",
        "women = df.loc[df['sex']==0]\n",
        "print('Number of men in the study:', len(men.index))\n",
        "print('Number of women in the study:', len(women.index))"
      ],
      "metadata": {
        "colab": {
          "base_uri": "https://localhost:8080/"
        },
        "id": "x_TLcUTHjP5m",
        "outputId": "1f1b14fc-200d-4aec-ab86-0911f5b1afdf"
      },
      "execution_count": null,
      "outputs": [
        {
          "output_type": "stream",
          "name": "stdout",
          "text": [
            "Number of men in the study: 206\n",
            "Number of women in the study: 96\n"
          ]
        }
      ]
    },
    {
      "cell_type": "code",
      "source": [
        "gender = ['men', 'women']\n",
        "data = [207, 96]"
      ],
      "metadata": {
        "id": "hbfj_M44jVCu"
      },
      "execution_count": null,
      "outputs": []
    },
    {
      "cell_type": "code",
      "source": [
        "fig = plt.figure(figsize =(10, 7))\n",
        "plt.title(\"Percntage of gender in study\")\n",
        "plt.pie(data, labels = gender, autopct='%1.1f%%')\n",
        "plt.show()"
      ],
      "metadata": {
        "colab": {
          "base_uri": "https://localhost:8080/",
          "height": 427
        },
        "id": "AQ1B2AZ3jb5Q",
        "outputId": "9359f2c5-1e8d-4184-cd6c-8e998ae82d8d"
      },
      "execution_count": null,
      "outputs": [
        {
          "output_type": "display_data",
          "data": {
            "text/plain": [
              "<Figure size 720x504 with 1 Axes>"
            ],
            "image/png": "[encoded data removed]"
          },
          "metadata": {}
        }
      ]
    },
    {
      "cell_type": "code",
      "source": [
        "df['sex'] = df['sex'].replace([1], 'M')\n",
        "df['sex'] = df['sex'].replace([0], 'F')\n",
        "df['output'] = df['output'].replace([0], 'Less chance')\n",
        "df['output'] = df['output'].replace([1], 'High Change')"
      ],
      "metadata": {
        "id": "lFxZlph1jfv3"
      },
      "execution_count": null,
      "outputs": []
    },
    {
      "cell_type": "code",
      "source": [
        "plt.title(\"Probably of heart attack by gender\")\n",
        "sns.countplot(data=df, x='sex', hue='output')"
      ],
      "metadata": {
        "colab": {
          "base_uri": "https://localhost:8080/",
          "height": 312
        },
        "id": "0QTEZ1BWjix1",
        "outputId": "27ad9d89-1da4-421f-d170-c79780dd12d9"
      },
      "execution_count": null,
      "outputs": [
        {
          "output_type": "execute_result",
          "data": {
            "text/plain": [
              "<matplotlib.axes._subplots.AxesSubplot at 0x7fe7b16cc070>"
            ]
          },
          "metadata": {},
          "execution_count": 13
        },
        {
          "output_type": "display_data",
          "data": {
            "text/plain": [
              "<Figure size 432x288 with 1 Axes>"
            ],
            "image/png": "[encoded data removed]"
          },
          "metadata": {
            "needs_background": "light"
          }
        }
      ]
    },
    {
      "cell_type": "code",
      "source": [
        "df.loc[(df['sex'] ==1), 'sex'] = 'Man'\n",
        "df.loc[(df['sex'] ==0), 'sex'] = 'Woman'\n",
        "\n",
        "df.loc[(df['output'] ==1), 'output'] = 'High'\n",
        "df.loc[(df['output'] ==0), 'output'] = 'Low'\n",
        "\n",
        "df.head()"
      ],
      "metadata": {
        "id": "sjE4TbwpSuMq",
        "colab": {
          "base_uri": "https://localhost:8080/",
          "height": 206
        },
        "outputId": "f802e0df-ed0c-4940-caef-e8e152f446ff"
      },
      "execution_count": null,
      "outputs": [
        {
          "output_type": "execute_result",
          "data": {
            "text/plain": [
              "   age sex  cp  trtbps  chol  fbs  restecg  thalachh  exng  oldpeak  slp  caa  \\\n",
              "0   63   M   3     145   233    1        0       150     0      2.3    0    0   \n",
              "1   37   M   2     130   250    0        1       187     0      3.5    0    0   \n",
              "2   41   F   1     130   204    0        0       172     0      1.4    2    0   \n",
              "3   56   M   1     120   236    0        1       178     0      0.8    2    0   \n",
              "4   57   F   0     120   354    0        1       163     1      0.6    2    0   \n",
              "\n",
              "   thall       output  \n",
              "0      1  High Change  \n",
              "1      2  High Change  \n",
              "2      2  High Change  \n",
              "3      2  High Change  \n",
              "4      2  High Change  "
            ],
            "text/html": [
              "\n",
              "  <div id=\"df-5531afab-e815-40e6-8940-feaf2da36a69\">\n",
              "    <div class=\"colab-df-container\">\n",
              "      <div>\n",
              "<style scoped>\n",
              "    .dataframe tbody tr th:only-of-type {\n",
              "        vertical-align: middle;\n",
              "    }\n",
              "\n",
              "    .dataframe tbody tr th {\n",
              "        vertical-align: top;\n",
              "    }\n",
              "\n",
              "    .dataframe thead th {\n",
              "        text-align: right;\n",
              "    }\n",
              "</style>\n",
              "<table border=\"1\" class=\"dataframe\">\n",
              "  <thead>\n",
              "    <tr style=\"text-align: right;\">\n",
              "      <th></th>\n",
              "      <th>age</th>\n",
              "      <th>sex</th>\n",
              "      <th>cp</th>\n",
              "      <th>trtbps</th>\n",
              "      <th>chol</th>\n",
              "      <th>fbs</th>\n",
              "      <th>restecg</th>\n",
              "      <th>thalachh</th>\n",
              "      <th>exng</th>\n",
              "      <th>oldpeak</th>\n",
              "      <th>slp</th>\n",
              "      <th>caa</th>\n",
              "      <th>thall</th>\n",
              "      <th>output</th>\n",
              "    </tr>\n",
              "  </thead>\n",
              "  <tbody>\n",
              "    <tr>\n",
              "      <th>0</th>\n",
              "      <td>63</td>\n",
              "      <td>M</td>\n",
              "      <td>3</td>\n",
              "      <td>145</td>\n",
              "      <td>233</td>\n",
              "      <td>1</td>\n",
              "      <td>0</td>\n",
              "      <td>150</td>\n",
              "      <td>0</td>\n",
              "      <td>2.3</td>\n",
              "      <td>0</td>\n",
              "      <td>0</td>\n",
              "      <td>1</td>\n",
              "      <td>High Change</td>\n",
              "    </tr>\n",
              "    <tr>\n",
              "      <th>1</th>\n",
              "      <td>37</td>\n",
              "      <td>M</td>\n",
              "      <td>2</td>\n",
              "      <td>130</td>\n",
              "      <td>250</td>\n",
              "      <td>0</td>\n",
              "      <td>1</td>\n",
              "      <td>187</td>\n",
              "      <td>0</td>\n",
              "      <td>3.5</td>\n",
              "      <td>0</td>\n",
              "      <td>0</td>\n",
              "      <td>2</td>\n",
              "      <td>High Change</td>\n",
              "    </tr>\n",
              "    <tr>\n",
              "      <th>2</th>\n",
              "      <td>41</td>\n",
              "      <td>F</td>\n",
              "      <td>1</td>\n",
              "      <td>130</td>\n",
              "      <td>204</td>\n",
              "      <td>0</td>\n",
              "      <td>0</td>\n",
              "      <td>172</td>\n",
              "      <td>0</td>\n",
              "      <td>1.4</td>\n",
              "      <td>2</td>\n",
              "      <td>0</td>\n",
              "      <td>2</td>\n",
              "      <td>High Change</td>\n",
              "    </tr>\n",
              "    <tr>\n",
              "      <th>3</th>\n",
              "      <td>56</td>\n",
              "      <td>M</td>\n",
              "      <td>1</td>\n",
              "      <td>120</td>\n",
              "      <td>236</td>\n",
              "      <td>0</td>\n",
              "      <td>1</td>\n",
              "      <td>178</td>\n",
              "      <td>0</td>\n",
              "      <td>0.8</td>\n",
              "      <td>2</td>\n",
              "      <td>0</td>\n",
              "      <td>2</td>\n",
              "      <td>High Change</td>\n",
              "    </tr>\n",
              "    <tr>\n",
              "      <th>4</th>\n",
              "      <td>57</td>\n",
              "      <td>F</td>\n",
              "      <td>0</td>\n",
              "      <td>120</td>\n",
              "      <td>354</td>\n",
              "      <td>0</td>\n",
              "      <td>1</td>\n",
              "      <td>163</td>\n",
              "      <td>1</td>\n",
              "      <td>0.6</td>\n",
              "      <td>2</td>\n",
              "      <td>0</td>\n",
              "      <td>2</td>\n",
              "      <td>High Change</td>\n",
              "    </tr>\n",
              "  </tbody>\n",
              "</table>\n",
              "</div>\n",
              "      <button class=\"colab-df-convert\" onclick=\"convertToInteractive('df-5531afab-e815-40e6-8940-feaf2da36a69')\"\n",
              "              title=\"Convert this dataframe to an interactive table.\"\n",
              "              style=\"display:none;\">\n",
              "        \n",
              "  <svg xmlns=\"http://www.w3.org/2000/svg\" height=\"24px\"viewBox=\"0 0 24 24\"\n",
              "       width=\"24px\">\n",
              "    <path d=\"M0 0h24v24H0V0z\" fill=\"none\"/>\n",
              "    <path d=\"M18.56 5.44l.94 2.06.94-2.06 2.06-.94-2.06-.94-.94-2.06-.94 2.06-2.06.94zm-11 1L8.5 8.5l.94-2.06 2.06-.94-2.06-.94L8.5 2.5l-.94 2.06-2.06.94zm10 10l.94 2.06.94-2.06 2.06-.94-2.06-.94-.94-2.06-.94 2.06-2.06.94z\"/><path d=\"M17.41 7.96l-1.37-1.37c-.4-.4-.92-.59-1.43-.59-.52 0-1.04.2-1.43.59L10.3 9.45l-7.72 7.72c-.78.78-.78 2.05 0 2.83L4 21.41c.39.39.9.59 1.41.59.51 0 1.02-.2 1.41-.59l7.78-7.78 2.81-2.81c.8-.78.8-2.07 0-2.86zM5.41 20L4 18.59l7.72-7.72 1.47 1.35L5.41 20z\"/>\n",
              "  </svg>\n",
              "      </button>\n",
              "      \n",
              "  <style>\n",
              "    .colab-df-container {\n",
              "      display:flex;\n",
              "      flex-wrap:wrap;\n",
              "      gap: 12px;\n",
              "    }\n",
              "\n",
              "    .colab-df-convert {\n",
              "      background-color: #E8F0FE;\n",
              "      border: none;\n",
              "      border-radius: 50%;\n",
              "      cursor: pointer;\n",
              "      display: none;\n",
              "      fill: #1967D2;\n",
              "      height: 32px;\n",
              "      padding: 0 0 0 0;\n",
              "      width: 32px;\n",
              "    }\n",
              "\n",
              "    .colab-df-convert:hover {\n",
              "      background-color: #E2EBFA;\n",
              "      box-shadow: 0px 1px 2px rgba(60, 64, 67, 0.3), 0px 1px 3px 1px rgba(60, 64, 67, 0.15);\n",
              "      fill: #174EA6;\n",
              "    }\n",
              "\n",
              "    [theme=dark] .colab-df-convert {\n",
              "      background-color: #3B4455;\n",
              "      fill: #D2E3FC;\n",
              "    }\n",
              "\n",
              "    [theme=dark] .colab-df-convert:hover {\n",
              "      background-color: #434B5C;\n",
              "      box-shadow: 0px 1px 3px 1px rgba(0, 0, 0, 0.15);\n",
              "      filter: drop-shadow(0px 1px 2px rgba(0, 0, 0, 0.3));\n",
              "      fill: #FFFFFF;\n",
              "    }\n",
              "  </style>\n",
              "\n",
              "      <script>\n",
              "        const buttonEl =\n",
              "          document.querySelector('#df-5531afab-e815-40e6-8940-feaf2da36a69 button.colab-df-convert');\n",
              "        buttonEl.style.display =\n",
              "          google.colab.kernel.accessAllowed ? 'block' : 'none';\n",
              "\n",
              "        async function convertToInteractive(key) {\n",
              "          const element = document.querySelector('#df-5531afab-e815-40e6-8940-feaf2da36a69');\n",
              "          const dataTable =\n",
              "            await google.colab.kernel.invokeFunction('convertToInteractive',\n",
              "                                                     [key], {});\n",
              "          if (!dataTable) return;\n",
              "\n",
              "          const docLinkHtml = 'Like what you see? Visit the ' +\n",
              "            '<a target=\"_blank\" href=https://colab.research.google.com/notebooks/data_table.ipynb>data table notebook</a>'\n",
              "            + ' to learn more about interactive tables.';\n",
              "          element.innerHTML = '';\n",
              "          dataTable['output_type'] = 'display_data';\n",
              "          await google.colab.output.renderOutput(dataTable, element);\n",
              "          const docLink = document.createElement('div');\n",
              "          docLink.innerHTML = docLinkHtml;\n",
              "          element.appendChild(docLink);\n",
              "        }\n",
              "      </script>\n",
              "    </div>\n",
              "  </div>\n",
              "  "
            ]
          },
          "metadata": {},
          "execution_count": 14
        }
      ]
    },
    {
      "cell_type": "markdown",
      "source": [
        "# **Distribution of probabily by age**"
      ],
      "metadata": {
        "id": "4cVMEPd8VWNM"
      }
    },
    {
      "cell_type": "code",
      "source": [
        "sns.displot(x=df['age'], hue=df['output']).set(title='Distribution Plot for age')"
      ],
      "metadata": {
        "id": "hMjTnUkaSvgD",
        "colab": {
          "base_uri": "https://localhost:8080/",
          "height": 402
        },
        "outputId": "4466918c-ec6e-4d61-ca73-6919b00386c8"
      },
      "execution_count": null,
      "outputs": [
        {
          "output_type": "execute_result",
          "data": {
            "text/plain": [
              "<seaborn.axisgrid.FacetGrid at 0x7fe7b119bc10>"
            ]
          },
          "metadata": {},
          "execution_count": 15
        },
        {
          "output_type": "display_data",
          "data": {
            "text/plain": [
              "<Figure size 460.5x360 with 1 Axes>"
            ],
            "image/png": "[encoded data removed]"
          },
          "metadata": {
            "needs_background": "light"
          }
        }
      ]
    },
    {
      "cell_type": "markdown",
      "source": [
        "# **Distribution of Age**"
      ],
      "metadata": {
        "id": "Pk36CgjBVmgz"
      }
    },
    {
      "cell_type": "code",
      "source": [
        "sns.distplot(df[\"age\"], hist_kws = dict(linewidth=1, edgecolor=\"k\"));"
      ],
      "metadata": {
        "id": "Qe10p5kdSwXP",
        "colab": {
          "base_uri": "https://localhost:8080/",
          "height": 334
        },
        "outputId": "74c57b48-e586-45c2-e279-56893bd54d5b"
      },
      "execution_count": null,
      "outputs": [
        {
          "output_type": "stream",
          "name": "stderr",
          "text": [
            "/usr/local/lib/python3.8/dist-packages/seaborn/distributions.py:2619: FutureWarning: `distplot` is a deprecated function and will be removed in a future version. Please adapt your code to use either `displot` (a figure-level function with similar flexibility) or `histplot` (an axes-level function for histograms).\n",
            "  warnings.warn(msg, FutureWarning)\n"
          ]
        },
        {
          "output_type": "display_data",
          "data": {
            "text/plain": [
              "<Figure size 432x288 with 1 Axes>"
            ],
            "image/png": "[encoded data removed]"
          },
          "metadata": {
            "needs_background": "light"
          }
        }
      ]
    },
    {
      "cell_type": "markdown",
      "source": [
        "# **No Variables seem to have a high correlation**"
      ],
      "metadata": {
        "id": "yfQXtZoMuo_J"
      }
    },
    {
      "cell_type": "code",
      "source": [
        "corr = df.corr()\n",
        "corr.style.background_gradient(cmap ='coolwarm')"
      ],
      "metadata": {
        "colab": {
          "base_uri": "https://localhost:8080/",
          "height": 426
        },
        "id": "oGNLE2rNTdjy",
        "outputId": "ab40b632-2ce0-4b51-c03a-3f206ad89a90"
      },
      "execution_count": null,
      "outputs": [
        {
          "output_type": "execute_result",
          "data": {
            "text/plain": [
              "<pandas.io.formats.style.Styler at 0x7fe7b1100430>"
            ],
            "text/html": [
              "<style type=\"text/css\">\n",
              "#T_cf336_row0_col0, #T_cf336_row1_col1, #T_cf336_row2_col2, #T_cf336_row3_col3, #T_cf336_row4_col4, #T_cf336_row5_col5, #T_cf336_row6_col6, #T_cf336_row7_col7, #T_cf336_row8_col8, #T_cf336_row9_col9, #T_cf336_row10_col10, #T_cf336_row11_col11 {\n",
              "  background-color: #b40426;\n",
              "  color: #f1f1f1;\n",
              "}\n",
              "#T_cf336_row0_col1, #T_cf336_row1_col0, #T_cf336_row2_col3 {\n",
              "  background-color: #88abfd;\n",
              "  color: #000000;\n",
              "}\n",
              "#T_cf336_row0_col2 {\n",
              "  background-color: #b3cdfb;\n",
              "  color: #000000;\n",
              "}\n",
              "#T_cf336_row0_col3, #T_cf336_row5_col1 {\n",
              "  background-color: #a2c1ff;\n",
              "  color: #000000;\n",
              "}\n",
              "#T_cf336_row0_col4, #T_cf336_row7_col3 {\n",
              "  background-color: #7699f6;\n",
              "  color: #f1f1f1;\n",
              "}\n",
              "#T_cf336_row0_col5 {\n",
              "  background-color: #445acc;\n",
              "  color: #f1f1f1;\n",
              "}\n",
              "#T_cf336_row0_col6, #T_cf336_row1_col7, #T_cf336_row1_col11, #T_cf336_row3_col5, #T_cf336_row5_col3, #T_cf336_row5_col4, #T_cf336_row6_col0, #T_cf336_row6_col10, #T_cf336_row7_col1, #T_cf336_row8_col9, #T_cf336_row9_col2, #T_cf336_row9_col8 {\n",
              "  background-color: #3b4cc0;\n",
              "  color: #f1f1f1;\n",
              "}\n",
              "#T_cf336_row0_col7, #T_cf336_row4_col1, #T_cf336_row7_col0 {\n",
              "  background-color: #afcafc;\n",
              "  color: #000000;\n",
              "}\n",
              "#T_cf336_row0_col8, #T_cf336_row10_col0, #T_cf336_row11_col8 {\n",
              "  background-color: #dcdddd;\n",
              "  color: #000000;\n",
              "}\n",
              "#T_cf336_row0_col9 {\n",
              "  background-color: #90b2fe;\n",
              "  color: #000000;\n",
              "}\n",
              "#T_cf336_row0_col10, #T_cf336_row3_col0, #T_cf336_row8_col0, #T_cf336_row11_col7 {\n",
              "  background-color: #cad8ef;\n",
              "  color: #000000;\n",
              "}\n",
              "#T_cf336_row0_col11, #T_cf336_row2_col11 {\n",
              "  background-color: #799cf8;\n",
              "  color: #f1f1f1;\n",
              "}\n",
              "#T_cf336_row1_col2, #T_cf336_row6_col8 {\n",
              "  background-color: #6a8bef;\n",
              "  color: #f1f1f1;\n",
              "}\n",
              "#T_cf336_row1_col3 {\n",
              "  background-color: #4e68d8;\n",
              "  color: #f1f1f1;\n",
              "}\n",
              "#T_cf336_row1_col4, #T_cf336_row1_col5, #T_cf336_row6_col5, #T_cf336_row9_col0, #T_cf336_row11_col1, #T_cf336_row11_col2 {\n",
              "  background-color: #6f92f3;\n",
              "  color: #f1f1f1;\n",
              "}\n",
              "#T_cf336_row1_col6, #T_cf336_row6_col1 {\n",
              "  background-color: #dbdcde;\n",
              "  color: #000000;\n",
              "}\n",
              "#T_cf336_row1_col8 {\n",
              "  background-color: #94b6ff;\n",
              "  color: #000000;\n",
              "}\n",
              "#T_cf336_row1_col9 {\n",
              "  background-color: #ccd9ed;\n",
              "  color: #000000;\n",
              "}\n",
              "#T_cf336_row1_col10 {\n",
              "  background-color: #4257c9;\n",
              "  color: #f1f1f1;\n",
              "}\n",
              "#T_cf336_row2_col0, #T_cf336_row8_col7 {\n",
              "  background-color: #d9dce1;\n",
              "  color: #000000;\n",
              "}\n",
              "#T_cf336_row2_col1, #T_cf336_row5_col6, #T_cf336_row7_col11, #T_cf336_row11_col10 {\n",
              "  background-color: #a3c2fe;\n",
              "  color: #000000;\n",
              "}\n",
              "#T_cf336_row2_col4 {\n",
              "  background-color: #89acfd;\n",
              "  color: #000000;\n",
              "}\n",
              "#T_cf336_row2_col5 {\n",
              "  background-color: #4358cb;\n",
              "  color: #f1f1f1;\n",
              "}\n",
              "#T_cf336_row2_col6 {\n",
              "  background-color: #8caffe;\n",
              "  color: #000000;\n",
              "}\n",
              "#T_cf336_row2_col7, #T_cf336_row4_col9, #T_cf336_row5_col8, #T_cf336_row11_col0 {\n",
              "  background-color: #a9c6fd;\n",
              "  color: #000000;\n",
              "}\n",
              "#T_cf336_row2_col8 {\n",
              "  background-color: #dadce0;\n",
              "  color: #000000;\n",
              "}\n",
              "#T_cf336_row2_col9, #T_cf336_row7_col10 {\n",
              "  background-color: #9abbff;\n",
              "  color: #000000;\n",
              "}\n",
              "#T_cf336_row2_col10, #T_cf336_row4_col2 {\n",
              "  background-color: #93b5fe;\n",
              "  color: #000000;\n",
              "}\n",
              "#T_cf336_row3_col1 {\n",
              "  background-color: #85a8fc;\n",
              "  color: #f1f1f1;\n",
              "}\n",
              "#T_cf336_row3_col2, #T_cf336_row3_col11 {\n",
              "  background-color: #82a6fb;\n",
              "  color: #f1f1f1;\n",
              "}\n",
              "#T_cf336_row3_col4 {\n",
              "  background-color: #5572df;\n",
              "  color: #f1f1f1;\n",
              "}\n",
              "#T_cf336_row3_col6, #T_cf336_row4_col6 {\n",
              "  background-color: #97b8ff;\n",
              "  color: #000000;\n",
              "}\n",
              "#T_cf336_row3_col7 {\n",
              "  background-color: #a7c5fe;\n",
              "  color: #000000;\n",
              "}\n",
              "#T_cf336_row3_col8 {\n",
              "  background-color: #bfd3f6;\n",
              "  color: #000000;\n",
              "}\n",
              "#T_cf336_row3_col9, #T_cf336_row9_col1 {\n",
              "  background-color: #b5cdfa;\n",
              "  color: #000000;\n",
              "}\n",
              "#T_cf336_row3_col10 {\n",
              "  background-color: #8fb1fe;\n",
              "  color: #000000;\n",
              "}\n",
              "#T_cf336_row4_col0, #T_cf336_row4_col8 {\n",
              "  background-color: #b6cefa;\n",
              "  color: #000000;\n",
              "}\n",
              "#T_cf336_row4_col3 {\n",
              "  background-color: #6687ed;\n",
              "  color: #f1f1f1;\n",
              "}\n",
              "#T_cf336_row4_col5, #T_cf336_row6_col11, #T_cf336_row10_col5 {\n",
              "  background-color: #4b64d5;\n",
              "  color: #f1f1f1;\n",
              "}\n",
              "#T_cf336_row4_col7, #T_cf336_row11_col9 {\n",
              "  background-color: #9ebeff;\n",
              "  color: #000000;\n",
              "}\n",
              "#T_cf336_row4_col10 {\n",
              "  background-color: #9fbfff;\n",
              "  color: #000000;\n",
              "}\n",
              "#T_cf336_row4_col11, #T_cf336_row9_col10 {\n",
              "  background-color: #5d7ce6;\n",
              "  color: #f1f1f1;\n",
              "}\n",
              "#T_cf336_row5_col0, #T_cf336_row7_col9, #T_cf336_row10_col3 {\n",
              "  background-color: #7da0f9;\n",
              "  color: #f1f1f1;\n",
              "}\n",
              "#T_cf336_row5_col2 {\n",
              "  background-color: #3c4ec2;\n",
              "  color: #f1f1f1;\n",
              "}\n",
              "#T_cf336_row5_col7 {\n",
              "  background-color: #86a9fc;\n",
              "  color: #f1f1f1;\n",
              "}\n",
              "#T_cf336_row5_col9 {\n",
              "  background-color: #c7d7f0;\n",
              "  color: #000000;\n",
              "}\n",
              "#T_cf336_row5_col10, #T_cf336_row10_col6, #T_cf336_row11_col5 {\n",
              "  background-color: #5f7fe8;\n",
              "  color: #f1f1f1;\n",
              "}\n",
              "#T_cf336_row5_col11, #T_cf336_row9_col3 {\n",
              "  background-color: #6384eb;\n",
              "  color: #f1f1f1;\n",
              "}\n",
              "#T_cf336_row6_col2, #T_cf336_row6_col4, #T_cf336_row7_col5 {\n",
              "  background-color: #4f69d9;\n",
              "  color: #f1f1f1;\n",
              "}\n",
              "#T_cf336_row6_col3 {\n",
              "  background-color: #6180e9;\n",
              "  color: #f1f1f1;\n",
              "}\n",
              "#T_cf336_row6_col7 {\n",
              "  background-color: #3d50c3;\n",
              "  color: #f1f1f1;\n",
              "}\n",
              "#T_cf336_row6_col9 {\n",
              "  background-color: #f3c8b2;\n",
              "  color: #000000;\n",
              "}\n",
              "#T_cf336_row7_col2 {\n",
              "  background-color: #7093f3;\n",
              "  color: #f1f1f1;\n",
              "}\n",
              "#T_cf336_row7_col4, #T_cf336_row9_col7 {\n",
              "  background-color: #5977e3;\n",
              "  color: #f1f1f1;\n",
              "}\n",
              "#T_cf336_row7_col6 {\n",
              "  background-color: #3e51c5;\n",
              "  color: #f1f1f1;\n",
              "}\n",
              "#T_cf336_row7_col8 {\n",
              "  background-color: #e9d5cb;\n",
              "  color: #000000;\n",
              "}\n",
              "#T_cf336_row8_col1 {\n",
              "  background-color: #7396f5;\n",
              "  color: #f1f1f1;\n",
              "}\n",
              "#T_cf336_row8_col2 {\n",
              "  background-color: #98b9ff;\n",
              "  color: #000000;\n",
              "}\n",
              "#T_cf336_row8_col3 {\n",
              "  background-color: #7295f4;\n",
              "  color: #f1f1f1;\n",
              "}\n",
              "#T_cf336_row8_col4, #T_cf336_row8_col5 {\n",
              "  background-color: #536edd;\n",
              "  color: #f1f1f1;\n",
              "}\n",
              "#T_cf336_row8_col6 {\n",
              "  background-color: #455cce;\n",
              "  color: #f1f1f1;\n",
              "}\n",
              "#T_cf336_row8_col10 {\n",
              "  background-color: #b9d0f9;\n",
              "  color: #000000;\n",
              "}\n",
              "#T_cf336_row8_col11 {\n",
              "  background-color: #a5c3fe;\n",
              "  color: #000000;\n",
              "}\n",
              "#T_cf336_row9_col4 {\n",
              "  background-color: #4055c8;\n",
              "  color: #f1f1f1;\n",
              "}\n",
              "#T_cf336_row9_col5, #T_cf336_row10_col4 {\n",
              "  background-color: #7ea1fa;\n",
              "  color: #f1f1f1;\n",
              "}\n",
              "#T_cf336_row9_col6 {\n",
              "  background-color: #ebd3c6;\n",
              "  color: #000000;\n",
              "}\n",
              "#T_cf336_row9_col11 {\n",
              "  background-color: #4961d2;\n",
              "  color: #f1f1f1;\n",
              "}\n",
              "#T_cf336_row10_col1 {\n",
              "  background-color: #6788ee;\n",
              "  color: #f1f1f1;\n",
              "}\n",
              "#T_cf336_row10_col2 {\n",
              "  background-color: #7a9df8;\n",
              "  color: #f1f1f1;\n",
              "}\n",
              "#T_cf336_row10_col7 {\n",
              "  background-color: #b7cff9;\n",
              "  color: #000000;\n",
              "}\n",
              "#T_cf336_row10_col8 {\n",
              "  background-color: #e1dad6;\n",
              "  color: #000000;\n",
              "}\n",
              "#T_cf336_row10_col9 {\n",
              "  background-color: #a1c0ff;\n",
              "  color: #000000;\n",
              "}\n",
              "#T_cf336_row10_col11 {\n",
              "  background-color: #96b7ff;\n",
              "  color: #000000;\n",
              "}\n",
              "#T_cf336_row11_col3 {\n",
              "  background-color: #80a3fa;\n",
              "  color: #f1f1f1;\n",
              "}\n",
              "#T_cf336_row11_col4 {\n",
              "  background-color: #485fd1;\n",
              "  color: #f1f1f1;\n",
              "}\n",
              "#T_cf336_row11_col6 {\n",
              "  background-color: #81a4fb;\n",
              "  color: #f1f1f1;\n",
              "}\n",
              "</style>\n",
              "<table id=\"T_cf336_\" class=\"dataframe\">\n",
              "  <thead>\n",
              "    <tr>\n",
              "      <th class=\"blank level0\" >&nbsp;</th>\n",
              "      <th class=\"col_heading level0 col0\" >age</th>\n",
              "      <th class=\"col_heading level0 col1\" >cp</th>\n",
              "      <th class=\"col_heading level0 col2\" >trtbps</th>\n",
              "      <th class=\"col_heading level0 col3\" >chol</th>\n",
              "      <th class=\"col_heading level0 col4\" >fbs</th>\n",
              "      <th class=\"col_heading level0 col5\" >restecg</th>\n",
              "      <th class=\"col_heading level0 col6\" >thalachh</th>\n",
              "      <th class=\"col_heading level0 col7\" >exng</th>\n",
              "      <th class=\"col_heading level0 col8\" >oldpeak</th>\n",
              "      <th class=\"col_heading level0 col9\" >slp</th>\n",
              "      <th class=\"col_heading level0 col10\" >caa</th>\n",
              "      <th class=\"col_heading level0 col11\" >thall</th>\n",
              "    </tr>\n",
              "  </thead>\n",
              "  <tbody>\n",
              "    <tr>\n",
              "      <th id=\"T_cf336_level0_row0\" class=\"row_heading level0 row0\" >age</th>\n",
              "      <td id=\"T_cf336_row0_col0\" class=\"data row0 col0\" >1.000000</td>\n",
              "      <td id=\"T_cf336_row0_col1\" class=\"data row0 col1\" >-0.063107</td>\n",
              "      <td id=\"T_cf336_row0_col2\" class=\"data row0 col2\" >0.283121</td>\n",
              "      <td id=\"T_cf336_row0_col3\" class=\"data row0 col3\" >0.207216</td>\n",
              "      <td id=\"T_cf336_row0_col4\" class=\"data row0 col4\" >0.119492</td>\n",
              "      <td id=\"T_cf336_row0_col5\" class=\"data row0 col5\" >-0.111590</td>\n",
              "      <td id=\"T_cf336_row0_col6\" class=\"data row0 col6\" >-0.395235</td>\n",
              "      <td id=\"T_cf336_row0_col7\" class=\"data row0 col7\" >0.093216</td>\n",
              "      <td id=\"T_cf336_row0_col8\" class=\"data row0 col8\" >0.206040</td>\n",
              "      <td id=\"T_cf336_row0_col9\" class=\"data row0 col9\" >-0.164124</td>\n",
              "      <td id=\"T_cf336_row0_col10\" class=\"data row0 col10\" >0.302261</td>\n",
              "      <td id=\"T_cf336_row0_col11\" class=\"data row0 col11\" >0.065317</td>\n",
              "    </tr>\n",
              "    <tr>\n",
              "      <th id=\"T_cf336_level0_row1\" class=\"row_heading level0 row1\" >cp</th>\n",
              "      <td id=\"T_cf336_row1_col0\" class=\"data row1 col0\" >-0.063107</td>\n",
              "      <td id=\"T_cf336_row1_col1\" class=\"data row1 col1\" >1.000000</td>\n",
              "      <td id=\"T_cf336_row1_col2\" class=\"data row1 col2\" >0.046486</td>\n",
              "      <td id=\"T_cf336_row1_col3\" class=\"data row1 col3\" >-0.072682</td>\n",
              "      <td id=\"T_cf336_row1_col4\" class=\"data row1 col4\" >0.096018</td>\n",
              "      <td id=\"T_cf336_row1_col5\" class=\"data row1 col5\" >0.041561</td>\n",
              "      <td id=\"T_cf336_row1_col6\" class=\"data row1 col6\" >0.293367</td>\n",
              "      <td id=\"T_cf336_row1_col7\" class=\"data row1 col7\" >-0.392937</td>\n",
              "      <td id=\"T_cf336_row1_col8\" class=\"data row1 col8\" >-0.146692</td>\n",
              "      <td id=\"T_cf336_row1_col9\" class=\"data row1 col9\" >0.116854</td>\n",
              "      <td id=\"T_cf336_row1_col10\" class=\"data row1 col10\" >-0.195356</td>\n",
              "      <td id=\"T_cf336_row1_col11\" class=\"data row1 col11\" >-0.160370</td>\n",
              "    </tr>\n",
              "    <tr>\n",
              "      <th id=\"T_cf336_level0_row2\" class=\"row_heading level0 row2\" >trtbps</th>\n",
              "      <td id=\"T_cf336_row2_col0\" class=\"data row2 col0\" >0.283121</td>\n",
              "      <td id=\"T_cf336_row2_col1\" class=\"data row2 col1\" >0.046486</td>\n",
              "      <td id=\"T_cf336_row2_col2\" class=\"data row2 col2\" >1.000000</td>\n",
              "      <td id=\"T_cf336_row2_col3\" class=\"data row2 col3\" >0.125256</td>\n",
              "      <td id=\"T_cf336_row2_col4\" class=\"data row2 col4\" >0.178125</td>\n",
              "      <td id=\"T_cf336_row2_col5\" class=\"data row2 col5\" >-0.115367</td>\n",
              "      <td id=\"T_cf336_row2_col6\" class=\"data row2 col6\" >-0.048023</td>\n",
              "      <td id=\"T_cf336_row2_col7\" class=\"data row2 col7\" >0.068526</td>\n",
              "      <td id=\"T_cf336_row2_col8\" class=\"data row2 col8\" >0.194600</td>\n",
              "      <td id=\"T_cf336_row2_col9\" class=\"data row2 col9\" >-0.122873</td>\n",
              "      <td id=\"T_cf336_row2_col10\" class=\"data row2 col10\" >0.099248</td>\n",
              "      <td id=\"T_cf336_row2_col11\" class=\"data row2 col11\" >0.062870</td>\n",
              "    </tr>\n",
              "    <tr>\n",
              "      <th id=\"T_cf336_level0_row3\" class=\"row_heading level0 row3\" >chol</th>\n",
              "      <td id=\"T_cf336_row3_col0\" class=\"data row3 col0\" >0.207216</td>\n",
              "      <td id=\"T_cf336_row3_col1\" class=\"data row3 col1\" >-0.072682</td>\n",
              "      <td id=\"T_cf336_row3_col2\" class=\"data row3 col2\" >0.125256</td>\n",
              "      <td id=\"T_cf336_row3_col3\" class=\"data row3 col3\" >1.000000</td>\n",
              "      <td id=\"T_cf336_row3_col4\" class=\"data row3 col4\" >0.011428</td>\n",
              "      <td id=\"T_cf336_row3_col5\" class=\"data row3 col5\" >-0.147602</td>\n",
              "      <td id=\"T_cf336_row3_col6\" class=\"data row3 col6\" >-0.005308</td>\n",
              "      <td id=\"T_cf336_row3_col7\" class=\"data row3 col7\" >0.064099</td>\n",
              "      <td id=\"T_cf336_row3_col8\" class=\"data row3 col8\" >0.050086</td>\n",
              "      <td id=\"T_cf336_row3_col9\" class=\"data row3 col9\" >0.000417</td>\n",
              "      <td id=\"T_cf336_row3_col10\" class=\"data row3 col10\" >0.086878</td>\n",
              "      <td id=\"T_cf336_row3_col11\" class=\"data row3 col11\" >0.096810</td>\n",
              "    </tr>\n",
              "    <tr>\n",
              "      <th id=\"T_cf336_level0_row4\" class=\"row_heading level0 row4\" >fbs</th>\n",
              "      <td id=\"T_cf336_row4_col0\" class=\"data row4 col0\" >0.119492</td>\n",
              "      <td id=\"T_cf336_row4_col1\" class=\"data row4 col1\" >0.096018</td>\n",
              "      <td id=\"T_cf336_row4_col2\" class=\"data row4 col2\" >0.178125</td>\n",
              "      <td id=\"T_cf336_row4_col3\" class=\"data row4 col3\" >0.011428</td>\n",
              "      <td id=\"T_cf336_row4_col4\" class=\"data row4 col4\" >1.000000</td>\n",
              "      <td id=\"T_cf336_row4_col5\" class=\"data row4 col5\" >-0.083081</td>\n",
              "      <td id=\"T_cf336_row4_col6\" class=\"data row4 col6\" >-0.007169</td>\n",
              "      <td id=\"T_cf336_row4_col7\" class=\"data row4 col7\" >0.024729</td>\n",
              "      <td id=\"T_cf336_row4_col8\" class=\"data row4 col8\" >0.004514</td>\n",
              "      <td id=\"T_cf336_row4_col9\" class=\"data row4 col9\" >-0.058654</td>\n",
              "      <td id=\"T_cf336_row4_col10\" class=\"data row4 col10\" >0.144935</td>\n",
              "      <td id=\"T_cf336_row4_col11\" class=\"data row4 col11\" >-0.032752</td>\n",
              "    </tr>\n",
              "    <tr>\n",
              "      <th id=\"T_cf336_level0_row5\" class=\"row_heading level0 row5\" >restecg</th>\n",
              "      <td id=\"T_cf336_row5_col0\" class=\"data row5 col0\" >-0.111590</td>\n",
              "      <td id=\"T_cf336_row5_col1\" class=\"data row5 col1\" >0.041561</td>\n",
              "      <td id=\"T_cf336_row5_col2\" class=\"data row5 col2\" >-0.115367</td>\n",
              "      <td id=\"T_cf336_row5_col3\" class=\"data row5 col3\" >-0.147602</td>\n",
              "      <td id=\"T_cf336_row5_col4\" class=\"data row5 col4\" >-0.083081</td>\n",
              "      <td id=\"T_cf336_row5_col5\" class=\"data row5 col5\" >1.000000</td>\n",
              "      <td id=\"T_cf336_row5_col6\" class=\"data row5 col6\" >0.041210</td>\n",
              "      <td id=\"T_cf336_row5_col7\" class=\"data row5 col7\" >-0.068807</td>\n",
              "      <td id=\"T_cf336_row5_col8\" class=\"data row5 col8\" >-0.056251</td>\n",
              "      <td id=\"T_cf336_row5_col9\" class=\"data row5 col9\" >0.090402</td>\n",
              "      <td id=\"T_cf336_row5_col10\" class=\"data row5 col10\" >-0.083112</td>\n",
              "      <td id=\"T_cf336_row5_col11\" class=\"data row5 col11\" >-0.010473</td>\n",
              "    </tr>\n",
              "    <tr>\n",
              "      <th id=\"T_cf336_level0_row6\" class=\"row_heading level0 row6\" >thalachh</th>\n",
              "      <td id=\"T_cf336_row6_col0\" class=\"data row6 col0\" >-0.395235</td>\n",
              "      <td id=\"T_cf336_row6_col1\" class=\"data row6 col1\" >0.293367</td>\n",
              "      <td id=\"T_cf336_row6_col2\" class=\"data row6 col2\" >-0.048023</td>\n",
              "      <td id=\"T_cf336_row6_col3\" class=\"data row6 col3\" >-0.005308</td>\n",
              "      <td id=\"T_cf336_row6_col4\" class=\"data row6 col4\" >-0.007169</td>\n",
              "      <td id=\"T_cf336_row6_col5\" class=\"data row6 col5\" >0.041210</td>\n",
              "      <td id=\"T_cf336_row6_col6\" class=\"data row6 col6\" >1.000000</td>\n",
              "      <td id=\"T_cf336_row6_col7\" class=\"data row6 col7\" >-0.377411</td>\n",
              "      <td id=\"T_cf336_row6_col8\" class=\"data row6 col8\" >-0.342201</td>\n",
              "      <td id=\"T_cf336_row6_col9\" class=\"data row6 col9\" >0.384754</td>\n",
              "      <td id=\"T_cf336_row6_col10\" class=\"data row6 col10\" >-0.228311</td>\n",
              "      <td id=\"T_cf336_row6_col11\" class=\"data row6 col11\" >-0.094910</td>\n",
              "    </tr>\n",
              "    <tr>\n",
              "      <th id=\"T_cf336_level0_row7\" class=\"row_heading level0 row7\" >exng</th>\n",
              "      <td id=\"T_cf336_row7_col0\" class=\"data row7 col0\" >0.093216</td>\n",
              "      <td id=\"T_cf336_row7_col1\" class=\"data row7 col1\" >-0.392937</td>\n",
              "      <td id=\"T_cf336_row7_col2\" class=\"data row7 col2\" >0.068526</td>\n",
              "      <td id=\"T_cf336_row7_col3\" class=\"data row7 col3\" >0.064099</td>\n",
              "      <td id=\"T_cf336_row7_col4\" class=\"data row7 col4\" >0.024729</td>\n",
              "      <td id=\"T_cf336_row7_col5\" class=\"data row7 col5\" >-0.068807</td>\n",
              "      <td id=\"T_cf336_row7_col6\" class=\"data row7 col6\" >-0.377411</td>\n",
              "      <td id=\"T_cf336_row7_col7\" class=\"data row7 col7\" >1.000000</td>\n",
              "      <td id=\"T_cf336_row7_col8\" class=\"data row7 col8\" >0.286766</td>\n",
              "      <td id=\"T_cf336_row7_col9\" class=\"data row7 col9\" >-0.256106</td>\n",
              "      <td id=\"T_cf336_row7_col10\" class=\"data row7 col10\" >0.125377</td>\n",
              "      <td id=\"T_cf336_row7_col11\" class=\"data row7 col11\" >0.205826</td>\n",
              "    </tr>\n",
              "    <tr>\n",
              "      <th id=\"T_cf336_level0_row8\" class=\"row_heading level0 row8\" >oldpeak</th>\n",
              "      <td id=\"T_cf336_row8_col0\" class=\"data row8 col0\" >0.206040</td>\n",
              "      <td id=\"T_cf336_row8_col1\" class=\"data row8 col1\" >-0.146692</td>\n",
              "      <td id=\"T_cf336_row8_col2\" class=\"data row8 col2\" >0.194600</td>\n",
              "      <td id=\"T_cf336_row8_col3\" class=\"data row8 col3\" >0.050086</td>\n",
              "      <td id=\"T_cf336_row8_col4\" class=\"data row8 col4\" >0.004514</td>\n",
              "      <td id=\"T_cf336_row8_col5\" class=\"data row8 col5\" >-0.056251</td>\n",
              "      <td id=\"T_cf336_row8_col6\" class=\"data row8 col6\" >-0.342201</td>\n",
              "      <td id=\"T_cf336_row8_col7\" class=\"data row8 col7\" >0.286766</td>\n",
              "      <td id=\"T_cf336_row8_col8\" class=\"data row8 col8\" >1.000000</td>\n",
              "      <td id=\"T_cf336_row8_col9\" class=\"data row8 col9\" >-0.576314</td>\n",
              "      <td id=\"T_cf336_row8_col10\" class=\"data row8 col10\" >0.236560</td>\n",
              "      <td id=\"T_cf336_row8_col11\" class=\"data row8 col11\" >0.209090</td>\n",
              "    </tr>\n",
              "    <tr>\n",
              "      <th id=\"T_cf336_level0_row9\" class=\"row_heading level0 row9\" >slp</th>\n",
              "      <td id=\"T_cf336_row9_col0\" class=\"data row9 col0\" >-0.164124</td>\n",
              "      <td id=\"T_cf336_row9_col1\" class=\"data row9 col1\" >0.116854</td>\n",
              "      <td id=\"T_cf336_row9_col2\" class=\"data row9 col2\" >-0.122873</td>\n",
              "      <td id=\"T_cf336_row9_col3\" class=\"data row9 col3\" >0.000417</td>\n",
              "      <td id=\"T_cf336_row9_col4\" class=\"data row9 col4\" >-0.058654</td>\n",
              "      <td id=\"T_cf336_row9_col5\" class=\"data row9 col5\" >0.090402</td>\n",
              "      <td id=\"T_cf336_row9_col6\" class=\"data row9 col6\" >0.384754</td>\n",
              "      <td id=\"T_cf336_row9_col7\" class=\"data row9 col7\" >-0.256106</td>\n",
              "      <td id=\"T_cf336_row9_col8\" class=\"data row9 col8\" >-0.576314</td>\n",
              "      <td id=\"T_cf336_row9_col9\" class=\"data row9 col9\" >1.000000</td>\n",
              "      <td id=\"T_cf336_row9_col10\" class=\"data row9 col10\" >-0.092236</td>\n",
              "      <td id=\"T_cf336_row9_col11\" class=\"data row9 col11\" >-0.103314</td>\n",
              "    </tr>\n",
              "    <tr>\n",
              "      <th id=\"T_cf336_level0_row10\" class=\"row_heading level0 row10\" >caa</th>\n",
              "      <td id=\"T_cf336_row10_col0\" class=\"data row10 col0\" >0.302261</td>\n",
              "      <td id=\"T_cf336_row10_col1\" class=\"data row10 col1\" >-0.195356</td>\n",
              "      <td id=\"T_cf336_row10_col2\" class=\"data row10 col2\" >0.099248</td>\n",
              "      <td id=\"T_cf336_row10_col3\" class=\"data row10 col3\" >0.086878</td>\n",
              "      <td id=\"T_cf336_row10_col4\" class=\"data row10 col4\" >0.144935</td>\n",
              "      <td id=\"T_cf336_row10_col5\" class=\"data row10 col5\" >-0.083112</td>\n",
              "      <td id=\"T_cf336_row10_col6\" class=\"data row10 col6\" >-0.228311</td>\n",
              "      <td id=\"T_cf336_row10_col7\" class=\"data row10 col7\" >0.125377</td>\n",
              "      <td id=\"T_cf336_row10_col8\" class=\"data row10 col8\" >0.236560</td>\n",
              "      <td id=\"T_cf336_row10_col9\" class=\"data row10 col9\" >-0.092236</td>\n",
              "      <td id=\"T_cf336_row10_col10\" class=\"data row10 col10\" >1.000000</td>\n",
              "      <td id=\"T_cf336_row10_col11\" class=\"data row10 col11\" >0.160085</td>\n",
              "    </tr>\n",
              "    <tr>\n",
              "      <th id=\"T_cf336_level0_row11\" class=\"row_heading level0 row11\" >thall</th>\n",
              "      <td id=\"T_cf336_row11_col0\" class=\"data row11 col0\" >0.065317</td>\n",
              "      <td id=\"T_cf336_row11_col1\" class=\"data row11 col1\" >-0.160370</td>\n",
              "      <td id=\"T_cf336_row11_col2\" class=\"data row11 col2\" >0.062870</td>\n",
              "      <td id=\"T_cf336_row11_col3\" class=\"data row11 col3\" >0.096810</td>\n",
              "      <td id=\"T_cf336_row11_col4\" class=\"data row11 col4\" >-0.032752</td>\n",
              "      <td id=\"T_cf336_row11_col5\" class=\"data row11 col5\" >-0.010473</td>\n",
              "      <td id=\"T_cf336_row11_col6\" class=\"data row11 col6\" >-0.094910</td>\n",
              "      <td id=\"T_cf336_row11_col7\" class=\"data row11 col7\" >0.205826</td>\n",
              "      <td id=\"T_cf336_row11_col8\" class=\"data row11 col8\" >0.209090</td>\n",
              "      <td id=\"T_cf336_row11_col9\" class=\"data row11 col9\" >-0.103314</td>\n",
              "      <td id=\"T_cf336_row11_col10\" class=\"data row11 col10\" >0.160085</td>\n",
              "      <td id=\"T_cf336_row11_col11\" class=\"data row11 col11\" >1.000000</td>\n",
              "    </tr>\n",
              "  </tbody>\n",
              "</table>\n"
            ]
          },
          "metadata": {},
          "execution_count": 17
        }
      ]
    },
    {
      "cell_type": "code",
      "source": [
        "#sns.pairplot(df, hue = \"output\", markers = [\"o\", \"s\"])\n",
        "#plt.legend(labels=[\"1\",\"0\"], loc = 2, bbox_to_anchor = (1,1))"
      ],
      "metadata": {
        "id": "ExkrWnGPTiiC"
      },
      "execution_count": null,
      "outputs": []
    },
    {
      "cell_type": "markdown",
      "source": [
        "# **Since we renamed some of our categorical values earlier, we are going to reread our CSV file to return all categorical values as integers**"
      ],
      "metadata": {
        "id": "KMcbCdObZ81V"
      }
    },
    {
      "cell_type": "code",
      "source": [
        "df = pd.read_csv(\"heart.csv\")"
      ],
      "metadata": {
        "id": "xV4uoc4CZ8mf"
      },
      "execution_count": null,
      "outputs": []
    },
    {
      "cell_type": "code",
      "source": [
        "df.drop_duplicates(inplace=True)"
      ],
      "metadata": {
        "id": "Ls8VWqzRWNMc"
      },
      "execution_count": null,
      "outputs": []
    },
    {
      "cell_type": "code",
      "source": [
        "sns.boxplot(data = df[['age','trtbps', 'chol', 'thalachh', 'oldpeak']])"
      ],
      "metadata": {
        "colab": {
          "base_uri": "https://localhost:8080/",
          "height": 282
        },
        "id": "ncsSCXoBZoFB",
        "outputId": "e753e8a1-8b37-4fd0-bb94-b5568739078a"
      },
      "execution_count": null,
      "outputs": [
        {
          "output_type": "execute_result",
          "data": {
            "text/plain": [
              "<matplotlib.axes._subplots.AxesSubplot at 0x7fe7ae892610>"
            ]
          },
          "metadata": {},
          "execution_count": 21
        },
        {
          "output_type": "display_data",
          "data": {
            "text/plain": [
              "<Figure size 432x288 with 1 Axes>"
            ],
            "image/png": "[encoded data removed]"
          },
          "metadata": {
            "needs_background": "light"
          }
        }
      ]
    },
    {
      "cell_type": "markdown",
      "source": [
        "# Note: Our dataset contains both categorical and continous data, so we will be checking for outliers in the following columns:\n",
        "# - Age\n",
        "# - trtbps\n",
        "# - Chol\n",
        "# - thalachh\n",
        "# - Old peak\n",
        "# We will be using the IQR model to remove outliers. This was inspired from the following aricle: https://towardsdatascience.com/why-1-5-in-iqr-method-of-outlier-detection-5d07fdc82097"
      ],
      "metadata": {
        "id": "8l4stigSqPkz"
      }
    },
    {
      "cell_type": "code",
      "source": [
        "num_cols = [\"age\",\"trtbps\",\"chol\",\"thalachh\",\"oldpeak\"]"
      ],
      "metadata": {
        "id": "hmt3ZhfAqO0q"
      },
      "execution_count": null,
      "outputs": []
    },
    {
      "cell_type": "code",
      "source": [
        "for column in num_cols:\n",
        "  Q3, Q1 = np.percentile(df[column], [75,25])\n",
        "  IQR = Q3 - Q1\n",
        "  min_boxplot = Q1 - 1.5*IQR\n",
        "  max_boxplot = Q3 + 1.5*IQR\n",
        "  df2 =df[(df[column] > min_boxplot) & (df[column] < max_boxplot)]"
      ],
      "metadata": {
        "id": "Im5LSMX-Zc3p"
      },
      "execution_count": null,
      "outputs": []
    },
    {
      "cell_type": "code",
      "source": [
        "df2.shape"
      ],
      "metadata": {
        "colab": {
          "base_uri": "https://localhost:8080/"
        },
        "id": "GZYGX3esZeXg",
        "outputId": "46f41899-5702-481e-d7d0-5f7aa2bb769f"
      },
      "execution_count": null,
      "outputs": [
        {
          "output_type": "execute_result",
          "data": {
            "text/plain": [
              "(294, 14)"
            ]
          },
          "metadata": {},
          "execution_count": 24
        }
      ]
    },
    {
      "cell_type": "markdown",
      "source": [
        "# As we can see we were able to eliminate some of our outliers.\n",
        "# Note: We don't want to get rid of all our outliers, since there will always be variance when assessissing a population of people "
      ],
      "metadata": {
        "id": "BinvypotqdLE"
      }
    },
    {
      "cell_type": "code",
      "source": [
        "sns.boxplot(data = df2[['age','trtbps', 'chol', 'thalachh', 'oldpeak']])"
      ],
      "metadata": {
        "colab": {
          "base_uri": "https://localhost:8080/",
          "height": 282
        },
        "id": "RuXVXzJKZhAg",
        "outputId": "44500a52-2d19-4038-f357-e4f8f52dfed8"
      },
      "execution_count": null,
      "outputs": [
        {
          "output_type": "execute_result",
          "data": {
            "text/plain": [
              "<matplotlib.axes._subplots.AxesSubplot at 0x7fe7ac46c430>"
            ]
          },
          "metadata": {},
          "execution_count": 25
        },
        {
          "output_type": "display_data",
          "data": {
            "text/plain": [
              "<Figure size 432x288 with 1 Axes>"
            ],
            "image/png": "[encoded data removed]"
          },
          "metadata": {
            "needs_background": "light"
          }
        }
      ]
    },
    {
      "cell_type": "code",
      "source": [
        "df2.info()"
      ],
      "metadata": {
        "colab": {
          "base_uri": "https://localhost:8080/"
        },
        "id": "nqKhn9UvZuGB",
        "outputId": "dd374d5b-6830-4749-c68c-12baee8e4311"
      },
      "execution_count": null,
      "outputs": [
        {
          "output_type": "stream",
          "name": "stdout",
          "text": [
            "<class 'pandas.core.frame.DataFrame'>\n",
            "Int64Index: 294 entries, 0 to 302\n",
            "Data columns (total 14 columns):\n",
            " #   Column    Non-Null Count  Dtype  \n",
            "---  ------    --------------  -----  \n",
            " 0   age       294 non-null    int64  \n",
            " 1   sex       294 non-null    int64  \n",
            " 2   cp        294 non-null    int64  \n",
            " 3   trtbps    294 non-null    int64  \n",
            " 4   chol      294 non-null    int64  \n",
            " 5   fbs       294 non-null    int64  \n",
            " 6   restecg   294 non-null    int64  \n",
            " 7   thalachh  294 non-null    int64  \n",
            " 8   exng      294 non-null    int64  \n",
            " 9   oldpeak   294 non-null    float64\n",
            " 10  slp       294 non-null    int64  \n",
            " 11  caa       294 non-null    int64  \n",
            " 12  thall     294 non-null    int64  \n",
            " 13  output    294 non-null    int64  \n",
            "dtypes: float64(1), int64(13)\n",
            "memory usage: 34.5 KB\n"
          ]
        }
      ]
    },
    {
      "cell_type": "code",
      "source": [
        "cat_cols = []\n",
        "for columns in df:\n",
        "  if columns in num_cols:\n",
        "    pass\n",
        "  else:\n",
        "    cat_cols.append(columns)"
      ],
      "metadata": {
        "id": "SGVseeF5Zvvx"
      },
      "execution_count": null,
      "outputs": []
    },
    {
      "cell_type": "code",
      "source": [
        "cat_cols"
      ],
      "metadata": {
        "colab": {
          "base_uri": "https://localhost:8080/"
        },
        "id": "u8APO3SPZyyq",
        "outputId": "9014c745-849f-42de-b0d9-0e230c20ad94"
      },
      "execution_count": null,
      "outputs": [
        {
          "output_type": "execute_result",
          "data": {
            "text/plain": [
              "['sex', 'cp', 'fbs', 'restecg', 'exng', 'slp', 'caa', 'thall', 'output']"
            ]
          },
          "metadata": {},
          "execution_count": 28
        }
      ]
    },
    {
      "cell_type": "code",
      "source": [
        "num_cols"
      ],
      "metadata": {
        "colab": {
          "base_uri": "https://localhost:8080/"
        },
        "id": "SfPXKXg7Z1uj",
        "outputId": "be283b18-2863-45c4-c026-9ae255cf9bf8"
      },
      "execution_count": null,
      "outputs": [
        {
          "output_type": "execute_result",
          "data": {
            "text/plain": [
              "['age', 'trtbps', 'chol', 'thalachh', 'oldpeak']"
            ]
          },
          "metadata": {},
          "execution_count": 29
        }
      ]
    },
    {
      "cell_type": "code",
      "source": [
        "encoded_df = pd.get_dummies(df, drop_first=True)"
      ],
      "metadata": {
        "id": "H32k5wzwZ4MD"
      },
      "execution_count": null,
      "outputs": []
    },
    {
      "cell_type": "code",
      "source": [
        "encoded_df.head(5)"
      ],
      "metadata": {
        "colab": {
          "base_uri": "https://localhost:8080/",
          "height": 206
        },
        "id": "tFYZ_7Q_Z7qT",
        "outputId": "72c57f95-4523-4953-ff71-0fd4ad990107"
      },
      "execution_count": null,
      "outputs": [
        {
          "output_type": "execute_result",
          "data": {
            "text/plain": [
              "   age  sex  cp  trtbps  chol  fbs  restecg  thalachh  exng  oldpeak  slp  \\\n",
              "0   63    1   3     145   233    1        0       150     0      2.3    0   \n",
              "1   37    1   2     130   250    0        1       187     0      3.5    0   \n",
              "2   41    0   1     130   204    0        0       172     0      1.4    2   \n",
              "3   56    1   1     120   236    0        1       178     0      0.8    2   \n",
              "4   57    0   0     120   354    0        1       163     1      0.6    2   \n",
              "\n",
              "   caa  thall  output  \n",
              "0    0      1       1  \n",
              "1    0      2       1  \n",
              "2    0      2       1  \n",
              "3    0      2       1  \n",
              "4    0      2       1  "
            ],
            "text/html": [
              "\n",
              "  <div id=\"df-7ba3ceb7-0a92-46b9-b5d2-ce4238caafb8\">\n",
              "    <div class=\"colab-df-container\">\n",
              "      <div>\n",
              "<style scoped>\n",
              "    .dataframe tbody tr th:only-of-type {\n",
              "        vertical-align: middle;\n",
              "    }\n",
              "\n",
              "    .dataframe tbody tr th {\n",
              "        vertical-align: top;\n",
              "    }\n",
              "\n",
              "    .dataframe thead th {\n",
              "        text-align: right;\n",
              "    }\n",
              "</style>\n",
              "<table border=\"1\" class=\"dataframe\">\n",
              "  <thead>\n",
              "    <tr style=\"text-align: right;\">\n",
              "      <th></th>\n",
              "      <th>age</th>\n",
              "      <th>sex</th>\n",
              "      <th>cp</th>\n",
              "      <th>trtbps</th>\n",
              "      <th>chol</th>\n",
              "      <th>fbs</th>\n",
              "      <th>restecg</th>\n",
              "      <th>thalachh</th>\n",
              "      <th>exng</th>\n",
              "      <th>oldpeak</th>\n",
              "      <th>slp</th>\n",
              "      <th>caa</th>\n",
              "      <th>thall</th>\n",
              "      <th>output</th>\n",
              "    </tr>\n",
              "  </thead>\n",
              "  <tbody>\n",
              "    <tr>\n",
              "      <th>0</th>\n",
              "      <td>63</td>\n",
              "      <td>1</td>\n",
              "      <td>3</td>\n",
              "      <td>145</td>\n",
              "      <td>233</td>\n",
              "      <td>1</td>\n",
              "      <td>0</td>\n",
              "      <td>150</td>\n",
              "      <td>0</td>\n",
              "      <td>2.3</td>\n",
              "      <td>0</td>\n",
              "      <td>0</td>\n",
              "      <td>1</td>\n",
              "      <td>1</td>\n",
              "    </tr>\n",
              "    <tr>\n",
              "      <th>1</th>\n",
              "      <td>37</td>\n",
              "      <td>1</td>\n",
              "      <td>2</td>\n",
              "      <td>130</td>\n",
              "      <td>250</td>\n",
              "      <td>0</td>\n",
              "      <td>1</td>\n",
              "      <td>187</td>\n",
              "      <td>0</td>\n",
              "      <td>3.5</td>\n",
              "      <td>0</td>\n",
              "      <td>0</td>\n",
              "      <td>2</td>\n",
              "      <td>1</td>\n",
              "    </tr>\n",
              "    <tr>\n",
              "      <th>2</th>\n",
              "      <td>41</td>\n",
              "      <td>0</td>\n",
              "      <td>1</td>\n",
              "      <td>130</td>\n",
              "      <td>204</td>\n",
              "      <td>0</td>\n",
              "      <td>0</td>\n",
              "      <td>172</td>\n",
              "      <td>0</td>\n",
              "      <td>1.4</td>\n",
              "      <td>2</td>\n",
              "      <td>0</td>\n",
              "      <td>2</td>\n",
              "      <td>1</td>\n",
              "    </tr>\n",
              "    <tr>\n",
              "      <th>3</th>\n",
              "      <td>56</td>\n",
              "      <td>1</td>\n",
              "      <td>1</td>\n",
              "      <td>120</td>\n",
              "      <td>236</td>\n",
              "      <td>0</td>\n",
              "      <td>1</td>\n",
              "      <td>178</td>\n",
              "      <td>0</td>\n",
              "      <td>0.8</td>\n",
              "      <td>2</td>\n",
              "      <td>0</td>\n",
              "      <td>2</td>\n",
              "      <td>1</td>\n",
              "    </tr>\n",
              "    <tr>\n",
              "      <th>4</th>\n",
              "      <td>57</td>\n",
              "      <td>0</td>\n",
              "      <td>0</td>\n",
              "      <td>120</td>\n",
              "      <td>354</td>\n",
              "      <td>0</td>\n",
              "      <td>1</td>\n",
              "      <td>163</td>\n",
              "      <td>1</td>\n",
              "      <td>0.6</td>\n",
              "      <td>2</td>\n",
              "      <td>0</td>\n",
              "      <td>2</td>\n",
              "      <td>1</td>\n",
              "    </tr>\n",
              "  </tbody>\n",
              "</table>\n",
              "</div>\n",
              "      <button class=\"colab-df-convert\" onclick=\"convertToInteractive('df-7ba3ceb7-0a92-46b9-b5d2-ce4238caafb8')\"\n",
              "              title=\"Convert this dataframe to an interactive table.\"\n",
              "              style=\"display:none;\">\n",
              "        \n",
              "  <svg xmlns=\"http://www.w3.org/2000/svg\" height=\"24px\"viewBox=\"0 0 24 24\"\n",
              "       width=\"24px\">\n",
              "    <path d=\"M0 0h24v24H0V0z\" fill=\"none\"/>\n",
              "    <path d=\"M18.56 5.44l.94 2.06.94-2.06 2.06-.94-2.06-.94-.94-2.06-.94 2.06-2.06.94zm-11 1L8.5 8.5l.94-2.06 2.06-.94-2.06-.94L8.5 2.5l-.94 2.06-2.06.94zm10 10l.94 2.06.94-2.06 2.06-.94-2.06-.94-.94-2.06-.94 2.06-2.06.94z\"/><path d=\"M17.41 7.96l-1.37-1.37c-.4-.4-.92-.59-1.43-.59-.52 0-1.04.2-1.43.59L10.3 9.45l-7.72 7.72c-.78.78-.78 2.05 0 2.83L4 21.41c.39.39.9.59 1.41.59.51 0 1.02-.2 1.41-.59l7.78-7.78 2.81-2.81c.8-.78.8-2.07 0-2.86zM5.41 20L4 18.59l7.72-7.72 1.47 1.35L5.41 20z\"/>\n",
              "  </svg>\n",
              "      </button>\n",
              "      \n",
              "  <style>\n",
              "    .colab-df-container {\n",
              "      display:flex;\n",
              "      flex-wrap:wrap;\n",
              "      gap: 12px;\n",
              "    }\n",
              "\n",
              "    .colab-df-convert {\n",
              "      background-color: #E8F0FE;\n",
              "      border: none;\n",
              "      border-radius: 50%;\n",
              "      cursor: pointer;\n",
              "      display: none;\n",
              "      fill: #1967D2;\n",
              "      height: 32px;\n",
              "      padding: 0 0 0 0;\n",
              "      width: 32px;\n",
              "    }\n",
              "\n",
              "    .colab-df-convert:hover {\n",
              "      background-color: #E2EBFA;\n",
              "      box-shadow: 0px 1px 2px rgba(60, 64, 67, 0.3), 0px 1px 3px 1px rgba(60, 64, 67, 0.15);\n",
              "      fill: #174EA6;\n",
              "    }\n",
              "\n",
              "    [theme=dark] .colab-df-convert {\n",
              "      background-color: #3B4455;\n",
              "      fill: #D2E3FC;\n",
              "    }\n",
              "\n",
              "    [theme=dark] .colab-df-convert:hover {\n",
              "      background-color: #434B5C;\n",
              "      box-shadow: 0px 1px 3px 1px rgba(0, 0, 0, 0.15);\n",
              "      filter: drop-shadow(0px 1px 2px rgba(0, 0, 0, 0.3));\n",
              "      fill: #FFFFFF;\n",
              "    }\n",
              "  </style>\n",
              "\n",
              "      <script>\n",
              "        const buttonEl =\n",
              "          document.querySelector('#df-7ba3ceb7-0a92-46b9-b5d2-ce4238caafb8 button.colab-df-convert');\n",
              "        buttonEl.style.display =\n",
              "          google.colab.kernel.accessAllowed ? 'block' : 'none';\n",
              "\n",
              "        async function convertToInteractive(key) {\n",
              "          const element = document.querySelector('#df-7ba3ceb7-0a92-46b9-b5d2-ce4238caafb8');\n",
              "          const dataTable =\n",
              "            await google.colab.kernel.invokeFunction('convertToInteractive',\n",
              "                                                     [key], {});\n",
              "          if (!dataTable) return;\n",
              "\n",
              "          const docLinkHtml = 'Like what you see? Visit the ' +\n",
              "            '<a target=\"_blank\" href=https://colab.research.google.com/notebooks/data_table.ipynb>data table notebook</a>'\n",
              "            + ' to learn more about interactive tables.';\n",
              "          element.innerHTML = '';\n",
              "          dataTable['output_type'] = 'display_data';\n",
              "          await google.colab.output.renderOutput(dataTable, element);\n",
              "          const docLink = document.createElement('div');\n",
              "          docLink.innerHTML = docLinkHtml;\n",
              "          element.appendChild(docLink);\n",
              "        }\n",
              "      </script>\n",
              "    </div>\n",
              "  </div>\n",
              "  "
            ]
          },
          "metadata": {},
          "execution_count": 31
        }
      ]
    },
    {
      "cell_type": "code",
      "source": [
        "X = encoded_df.drop('output', axis = 1)\n",
        "y = encoded_df['output']"
      ],
      "metadata": {
        "id": "ljscsrYQjL8J"
      },
      "execution_count": null,
      "outputs": []
    },
    {
      "cell_type": "code",
      "source": [
        "from sklearn.model_selection import train_test_split\n",
        "X_train, X_test, y_train, y_test = train_test_split(X, y, test_size=0.2, random_state=42)"
      ],
      "metadata": {
        "id": "xA39Vn4Kkr2j"
      },
      "execution_count": null,
      "outputs": []
    },
    {
      "cell_type": "code",
      "source": [
        "from sklearn.preprocessing import StandardScaler\n",
        "scaler = StandardScaler()\n",
        "X_train = scaler.fit_transform(X_train)\n",
        "X_test = scaler.transform(X_test)"
      ],
      "metadata": {
        "id": "VrkWiCttkx_T"
      },
      "execution_count": null,
      "outputs": []
    },
    {
      "cell_type": "code",
      "source": [
        "print(X_train.shape)\n",
        "print(X_test.shape)"
      ],
      "metadata": {
        "colab": {
          "base_uri": "https://localhost:8080/"
        },
        "id": "LvEx47Nnk64k",
        "outputId": "2403b201-d2d0-4c07-e10e-3b4cd949c9c8"
      },
      "execution_count": null,
      "outputs": [
        {
          "output_type": "stream",
          "name": "stdout",
          "text": [
            "(241, 13)\n",
            "(61, 13)\n"
          ]
        }
      ]
    },
    {
      "cell_type": "code",
      "source": [
        "X_train, X_test"
      ],
      "metadata": {
        "colab": {
          "base_uri": "https://localhost:8080/"
        },
        "id": "pIzzcBPglCUw",
        "outputId": "d376eeae-4354-4db6-f14c-abf1f39f91fb"
      },
      "execution_count": null,
      "outputs": [
        {
          "output_type": "execute_result",
          "data": {
            "text/plain": [
              "(array([[-1.350641  ,  0.73145871,  0.        , ...,  0.96543644,\n",
              "         -0.68348955, -0.54576155],\n",
              "        [ 1.48742624,  0.73145871,  0.9664929 , ..., -0.68470669,\n",
              "         -0.68348955,  1.14050171],\n",
              "        [ 1.37826981,  0.73145871, -0.9664929 , ..., -0.68470669,\n",
              "          1.35010281,  1.14050171],\n",
              "        ...,\n",
              "        [ 1.59658267,  0.73145871,  1.9329858 , ..., -0.68470669,\n",
              "          0.33330663, -0.54576155],\n",
              "        [ 0.72333121,  0.73145871,  1.9329858 , ..., -0.68470669,\n",
              "          1.35010281, -0.54576155],\n",
              "        [ 0.94164408, -1.36713116,  0.        , ...,  0.96543644,\n",
              "          1.35010281, -0.54576155]]),\n",
              " array([[ 6.83926194e-02,  7.31458712e-01, -9.66492901e-01,\n",
              "          4.61039162e-02,  2.03233372e+00, -3.91292790e-01,\n",
              "          8.90027648e-01, -7.93530525e-01,  1.51702665e+00,\n",
              "          1.83646509e-01, -6.84706692e-01,  3.33306631e-01,\n",
              "          1.14050171e+00],\n",
              "        [ 1.05080051e+00,  7.31458712e-01,  9.66492901e-01,\n",
              "         -3.48704747e-01,  1.19390909e+00, -3.91292790e-01,\n",
              "          8.90027648e-01, -8.38286167e-01,  1.51702665e+00,\n",
              "          7.23388078e-01, -6.84706692e-01, -6.83489548e-01,\n",
              "          1.14050171e+00],\n",
              "        [ 2.86705484e-01,  7.31458712e-01,  9.66492901e-01,\n",
              "          1.06132619e+00, -2.29317518e+00,  2.55563104e+00,\n",
              "          8.90027648e-01,  1.04145078e+00, -6.59184200e-01,\n",
              "         -7.15922773e-01,  9.65436435e-01,  3.33306631e-01,\n",
              "          1.14050171e+00],\n",
              "        [ 1.26911337e+00,  7.31458712e-01,  0.00000000e+00,\n",
              "          1.62533857e+00, -6.56254664e-03, -3.91292790e-01,\n",
              "          8.90027648e-01, -1.33059822e+00,  1.51702665e+00,\n",
              "         -8.95836630e-01, -6.84706692e-01,  2.36689899e+00,\n",
              "         -2.23202482e+00],\n",
              "        [ 1.81489554e+00, -1.36713116e+00,  9.66492901e-01,\n",
              "         -1.19472331e+00,  3.55484454e-01,  2.55563104e+00,\n",
              "         -9.91522029e-01, -8.83041808e-01, -6.59184200e-01,\n",
              "         -8.95836630e-01,  9.65436435e-01,  3.33306631e-01,\n",
              "         -5.45761554e-01],\n",
              "        [ 2.86705484e-01,  7.31458712e-01,  9.66492901e-01,\n",
              "          1.06132619e+00, -1.49286076e+00, -3.91292790e-01,\n",
              "          8.90027648e-01,  1.08620642e+00, -6.59184200e-01,\n",
              "          5.43474222e-01,  9.65436435e-01, -6.83489548e-01,\n",
              "         -5.45761554e-01],\n",
              "        [-9.14015271e-01, -1.36713116e+00, -9.66492901e-01,\n",
              "          3.84511342e-01, -6.37278625e-02, -3.91292790e-01,\n",
              "         -9.91522029e-01,  1.01582307e-01,  1.51702665e+00,\n",
              "         -8.95836630e-01, -6.84706692e-01, -6.83489548e-01,\n",
              "         -5.45761554e-01],\n",
              "        [-4.07638129e-02,  7.31458712e-01, -9.66492901e-01,\n",
              "         -1.19472331e+00, -1.39948284e-01, -3.91292790e-01,\n",
              "          8.90027648e-01, -1.06206437e+00,  1.51702665e+00,\n",
              "          1.62295736e+00, -6.84706692e-01,  3.33306631e-01,\n",
              "          1.14050171e+00],\n",
              "        [-4.07638129e-02,  7.31458712e-01, -9.66492901e-01,\n",
              "         -5.17908459e-01,  7.55641665e-01, -3.91292790e-01,\n",
              "         -9.91522029e-01, -1.50962079e+00,  1.51702665e+00,\n",
              "          1.98278507e+00, -6.84706692e-01,  1.35010281e+00,\n",
              "         -5.45761554e-01],\n",
              "        [-4.07638129e-02,  7.31458712e-01,  9.66492901e-01,\n",
              "         -3.48704747e-01,  5.07925296e-01, -3.91292790e-01,\n",
              "         -9.91522029e-01,  1.01582307e-01, -6.59184200e-01,\n",
              "         -4.46051988e-01, -2.33484982e+00,  3.33306631e-01,\n",
              "         -5.45761554e-01],\n",
              "        [ 2.86705484e-01,  7.31458712e-01, -9.66492901e-01,\n",
              "          4.97313817e-01, -1.03553823e+00, -3.91292790e-01,\n",
              "          8.90027648e-01, -7.74402595e-02, -6.59184200e-01,\n",
              "         -5.36008917e-01, -6.84706692e-01, -6.83489548e-01,\n",
              "         -2.23202482e+00],\n",
              "        [ 5.05018348e-01,  7.31458712e-01,  1.93298580e+00,\n",
              "          2.64056084e+00,  4.50759980e-01, -3.91292790e-01,\n",
              "         -9.91522029e-01, -2.11707184e-01, -6.59184200e-01,\n",
              "          2.88235436e+00, -2.33484982e+00, -6.83489548e-01,\n",
              "          1.14050171e+00],\n",
              "        [-2.59076677e-01,  7.31458712e-01,  0.00000000e+00,\n",
              "         -6.30710935e-01,  1.49879077e+00, -3.91292790e-01,\n",
              "          8.90027648e-01,  9.96695139e-01, -6.59184200e-01,\n",
              "         -7.15922773e-01,  9.65436435e-01, -6.83489548e-01,\n",
              "         -5.45761554e-01],\n",
              "        [ 6.14174781e-01,  7.31458712e-01, -9.66492901e-01,\n",
              "         -7.99914647e-01, -3.11444231e-01,  2.55563104e+00,\n",
              "          8.90027648e-01,  4.59627440e-01,  1.51702665e+00,\n",
              "          3.63560366e-01,  9.65436435e-01,  1.35010281e+00,\n",
              "          1.14050171e+00],\n",
              "        [-9.14015271e-01, -1.36713116e+00,  0.00000000e+00,\n",
              "         -1.47672950e+00, -8.06876969e-01, -3.91292790e-01,\n",
              "          8.90027648e-01,  9.96695139e-01, -6.59184200e-01,\n",
              "         -8.95836630e-01,  9.65436435e-01, -6.83489548e-01,\n",
              "         -5.45761554e-01],\n",
              "        [-1.13232814e+00,  7.31458712e-01,  9.66492901e-01,\n",
              "          4.97313817e-01, -2.16168705e-01, -3.91292790e-01,\n",
              "         -9.91522029e-01,  1.35474027e+00, -6.59184200e-01,\n",
              "         -8.95836630e-01,  9.65436435e-01, -6.83489548e-01,\n",
              "         -5.45761554e-01],\n",
              "        [-2.22389246e+00, -1.36713116e+00,  0.00000000e+00,\n",
              "         -7.43513410e-01, -6.92546337e-01, -3.91292790e-01,\n",
              "          8.90027648e-01,  1.89180797e+00, -6.59184200e-01,\n",
              "         -2.66138132e-01,  9.65436435e-01, -6.83489548e-01,\n",
              "         -5.45761554e-01],\n",
              "        [ 6.14174781e-01,  7.31458712e-01, -9.66492901e-01,\n",
              "          7.79320005e-01,  6.79421244e-01, -3.91292790e-01,\n",
              "         -9.91522029e-01, -3.45974109e-01,  1.51702665e+00,\n",
              "          1.62295736e+00, -6.84706692e-01,  1.35010281e+00,\n",
              "          1.14050171e+00],\n",
              "        [-9.14015271e-01,  7.31458712e-01, -9.66492901e-01,\n",
              "          4.97313817e-01,  1.23201930e+00, -3.91292790e-01,\n",
              "          8.90027648e-01, -1.33059822e+00,  1.51702665e+00,\n",
              "          7.23388078e-01, -6.84706692e-01,  1.35010281e+00,\n",
              "          1.14050171e+00],\n",
              "        [ 7.23331213e-01,  7.31458712e-01, -9.66492901e-01,\n",
              "          3.84511342e-01, -1.53097097e+00, -3.91292790e-01,\n",
              "         -9.91522029e-01, -1.10682002e+00,  1.51702665e+00,\n",
              "          2.34261279e+00, -6.84706692e-01,  3.33306631e-01,\n",
              "         -5.45761554e-01],\n",
              "        [ 1.05080051e+00,  7.31458712e-01,  1.93298580e+00,\n",
              "          2.18935094e+00, -3.68609547e-01, -3.91292790e-01,\n",
              "         -9.91522029e-01,  2.35849232e-01, -6.59184200e-01,\n",
              "         -3.56095060e-01, -6.84706692e-01, -6.83489548e-01,\n",
              "          1.14050171e+00],\n",
              "        [ 1.77549052e-01,  7.31458712e-01, -9.66492901e-01,\n",
              "         -6.66985589e-02,  6.98476349e-01,  2.55563104e+00,\n",
              "         -9.91522029e-01, -2.09144413e+00,  1.51702665e+00,\n",
              "          5.43474222e-01, -2.33484982e+00, -6.83489548e-01,\n",
              "          1.14050171e+00],\n",
              "        [ 1.37826981e+00,  7.31458712e-01, -9.66492901e-01,\n",
              "         -6.30710935e-01, -1.78058494e-01, -3.91292790e-01,\n",
              "          8.90027648e-01, -3.52362466e+00, -6.59184200e-01,\n",
              "          3.73265262e-03, -6.84706692e-01, -6.83489548e-01,\n",
              "         -5.45761554e-01],\n",
              "        [ 1.81489554e+00, -1.36713116e+00,  0.00000000e+00,\n",
              "          1.62533857e+00,  1.06052335e+00, -3.91292790e-01,\n",
              "          8.90027648e-01,  5.49138723e-01, -6.59184200e-01,\n",
              "         -5.36008917e-01,  9.65436435e-01,  1.35010281e+00,\n",
              "         -5.45761554e-01],\n",
              "        [-1.13232814e+00, -1.36713116e+00,  9.66492901e-01,\n",
              "         -7.43513410e-01, -8.27829678e-02, -3.91292790e-01,\n",
              "          8.90027648e-01, -3.26846179e-02, -6.59184200e-01,\n",
              "         -6.25965845e-01, -6.84706692e-01,  3.33306631e-01,\n",
              "         -5.45761554e-01],\n",
              "        [-1.56895386e+00,  7.31458712e-01, -9.66492901e-01,\n",
              "          1.17412867e+00, -4.44829968e-01, -3.91292790e-01,\n",
              "          8.90027648e-01,  1.39949591e+00, -6.59184200e-01,\n",
              "         -8.95836630e-01,  9.65436435e-01, -6.83489548e-01,\n",
              "          1.14050171e+00],\n",
              "        [-1.02317170e+00,  7.31458712e-01, -9.66492901e-01,\n",
              "          6.10116292e-01,  1.19390909e+00, -3.91292790e-01,\n",
              "         -9.91522029e-01, -1.22195901e-01,  1.51702665e+00,\n",
              "         -8.95836630e-01, -6.84706692e-01,  2.36689899e+00,\n",
              "          1.14050171e+00],\n",
              "        [-3.68233110e-01,  7.31458712e-01, -9.66492901e-01,\n",
              "          4.97313817e-01,  2.79264033e-01, -3.91292790e-01,\n",
              "         -9.91522029e-01,  1.62327412e+00,  1.51702665e+00,\n",
              "         -8.95836630e-01,  9.65436435e-01, -6.83489548e-01,\n",
              "         -5.45761554e-01],\n",
              "        [ 6.83926194e-02,  7.31458712e-01, -9.66492901e-01,\n",
              "          1.62533857e+00,  8.12806981e-01, -3.91292790e-01,\n",
              "         -9.91522029e-01, -2.11707184e-01,  1.51702665e+00,\n",
              "         -1.76181204e-01, -6.84706692e-01,  3.33306631e-01,\n",
              "          1.14050171e+00],\n",
              "        [-4.77389542e-01, -1.36713116e+00, -9.66492901e-01,\n",
              "         -1.19472331e+00,  1.45878296e-01, -3.91292790e-01,\n",
              "         -9.91522029e-01,  4.14871798e-01, -6.59184200e-01,\n",
              "         -8.95836630e-01,  9.65436435e-01, -6.83489548e-01,\n",
              "         -5.45761554e-01],\n",
              "        [ 1.05080051e+00,  7.31458712e-01, -9.66492901e-01,\n",
              "         -1.79501034e-01,  3.17374243e-01, -3.91292790e-01,\n",
              "          8.90027648e-01, -2.00193285e+00,  1.51702665e+00,\n",
              "         -7.15922773e-01, -6.84706692e-01,  3.33306631e-01,\n",
              "          1.14050171e+00],\n",
              "        [ 7.23331213e-01,  7.31458712e-01, -9.66492901e-01,\n",
              "          4.97313817e-01, -7.49711653e-01, -3.91292790e-01,\n",
              "         -9.91522029e-01, -5.24996675e-01,  1.51702665e+00,\n",
              "          8.13345007e-01,  9.65436435e-01,  3.33306631e-01,\n",
              "          1.14050171e+00],\n",
              "        [ 1.15995694e+00,  7.31458712e-01, -9.66492901e-01,\n",
              "         -1.19472331e+00,  3.15476640e-02, -3.91292790e-01,\n",
              "         -9.91522029e-01,  3.70116156e-01, -6.59184200e-01,\n",
              "         -3.56095060e-01,  9.65436435e-01,  1.35010281e+00,\n",
              "         -2.23202482e+00],\n",
              "        [-1.02317170e+00,  7.31458712e-01, -9.66492901e-01,\n",
              "         -1.53313074e+00, -7.30656548e-01, -3.91292790e-01,\n",
              "         -9.91522029e-01, -7.74402595e-02,  1.51702665e+00,\n",
              "          1.80287122e+00, -6.84706692e-01, -6.83489548e-01,\n",
              "         -5.45761554e-01],\n",
              "        [ 1.26911337e+00, -1.36713116e+00,  1.93298580e+00,\n",
              "          1.06132619e+00, -3.87664653e-01, -3.91292790e-01,\n",
              "          8.90027648e-01, -1.59913207e+00, -6.59184200e-01,\n",
              "          1.44304350e+00, -2.33484982e+00, -6.83489548e-01,\n",
              "         -5.45761554e-01],\n",
              "        [-1.49920245e-01,  7.31458712e-01, -9.66492901e-01,\n",
              "          4.97313817e-01, -8.25932074e-01,  2.55563104e+00,\n",
              "         -9.91522029e-01,  2.35849232e-01,  1.51702665e+00,\n",
              "          1.89282815e+00, -2.33484982e+00, -6.83489548e-01,\n",
              "          1.14050171e+00],\n",
              "        [-3.68233110e-01,  7.31458712e-01,  9.66492901e-01,\n",
              "         -3.48704747e-01, -2.56176519e-02,  2.55563104e+00,\n",
              "         -9.91522029e-01,  7.28161289e-01, -6.59184200e-01,\n",
              "          1.26312965e+00, -6.84706692e-01, -6.83489548e-01,\n",
              "         -5.45761554e-01],\n",
              "        [-6.95702406e-01,  7.31458712e-01,  9.66492901e-01,\n",
              "         -4.05105984e-01,  1.64933401e-01,  2.55563104e+00,\n",
              "          8.90027648e-01,  1.13096206e+00, -6.59184200e-01,\n",
              "         -8.95836630e-01,  9.65436435e-01,  1.35010281e+00,\n",
              "         -5.45761554e-01],\n",
              "        [-1.56895386e+00,  7.31458712e-01,  1.93298580e+00,\n",
              "          4.97313817e-01, -9.02152496e-01, -3.91292790e-01,\n",
              "          8.90027648e-01,  1.26522899e+00,  1.51702665e+00,\n",
              "          3.63560366e-01,  9.65436435e-01, -6.83489548e-01,\n",
              "          1.14050171e+00],\n",
              "        [-1.02317170e+00,  7.31458712e-01, -9.66492901e-01,\n",
              "         -9.12717122e-01,  2.60208928e-01, -3.91292790e-01,\n",
              "         -9.91522029e-01,  1.57851848e+00, -6.59184200e-01,\n",
              "         -8.95836630e-01,  9.65436435e-01, -6.83489548e-01,\n",
              "         -5.45761554e-01],\n",
              "        [-2.59076677e-01,  7.31458712e-01,  9.66492901e-01,\n",
              "          3.84511342e-01, -4.44829968e-01, -3.91292790e-01,\n",
              "          8.90027648e-01,  8.62428214e-01, -6.59184200e-01,\n",
              "         -8.95836630e-01,  9.65436435e-01,  3.38369517e+00,\n",
              "         -5.45761554e-01],\n",
              "        [ 5.05018348e-01,  7.31458712e-01,  0.00000000e+00,\n",
              "          4.97313817e-01, -4.82940179e-01, -3.91292790e-01,\n",
              "          8.90027648e-01,  6.38650006e-01,  1.51702665e+00,\n",
              "         -8.95836630e-01,  9.65436435e-01, -6.83489548e-01,\n",
              "         -5.45761554e-01],\n",
              "        [ 8.32487645e-01,  7.31458712e-01,  0.00000000e+00,\n",
              "         -1.79501034e-01, -7.30656548e-01,  2.55563104e+00,\n",
              "         -9.91522029e-01, -4.35485392e-01, -6.59184200e-01,\n",
              "         -8.95836630e-01,  9.65436435e-01, -6.83489548e-01,\n",
              "         -5.45761554e-01],\n",
              "        [-1.45979743e+00,  7.31458712e-01,  9.66492901e-01,\n",
              "         -6.66985589e-02, -6.16325916e-01, -3.91292790e-01,\n",
              "         -9.91522029e-01,  8.17672572e-01, -6.59184200e-01,\n",
              "          9.03301935e-01, -6.84706692e-01, -6.83489548e-01,\n",
              "         -5.45761554e-01],\n",
              "        [-1.13232814e+00,  7.31458712e-01,  0.00000000e+00,\n",
              "         -6.30710935e-01,  3.17374243e-01, -3.91292790e-01,\n",
              "          8.90027648e-01,  1.04145078e+00, -6.59184200e-01,\n",
              "         -8.95836630e-01,  9.65436435e-01, -6.83489548e-01,\n",
              "          1.14050171e+00],\n",
              "        [ 8.32487645e-01, -1.36713116e+00, -9.66492901e-01,\n",
              "          3.84511342e-01,  9.08082508e-01,  2.55563104e+00,\n",
              "          8.90027648e-01, -1.95717721e+00, -6.59184200e-01,\n",
              "          8.13345007e-01, -6.84706692e-01,  2.36689899e+00,\n",
              "         -5.45761554e-01],\n",
              "        [-2.59076677e-01,  7.31458712e-01, -9.66492901e-01,\n",
              "         -1.79501034e-01, -8.06876969e-01,  2.55563104e+00,\n",
              "          8.90027648e-01,  2.80604873e-01,  1.51702665e+00,\n",
              "          3.73265262e-03, -6.84706692e-01, -6.83489548e-01,\n",
              "         -3.91828808e+00],\n",
              "        [-2.59076677e-01,  7.31458712e-01,  0.00000000e+00,\n",
              "         -1.79501034e-01, -7.87821864e-01,  2.55563104e+00,\n",
              "          8.90027648e-01,  1.53376284e+00, -6.59184200e-01,\n",
              "         -8.95836630e-01,  9.65436435e-01, -6.83489548e-01,\n",
              "         -5.45761554e-01],\n",
              "        [ 3.95861916e-01, -1.36713116e+00, -9.66492901e-01,\n",
              "          2.18935094e+00, -4.06719758e-01,  2.55563104e+00,\n",
              "         -9.91522029e-01, -1.66951543e-01,  1.51702665e+00,\n",
              "          1.62295736e+00, -6.84706692e-01,  1.35010281e+00,\n",
              "         -2.23202482e+00],\n",
              "        [ 1.05080051e+00,  7.31458712e-01, -9.66492901e-01,\n",
              "         -6.30710935e-01, -6.56254664e-03, -3.91292790e-01,\n",
              "         -9.91522029e-01, -2.40473362e+00,  1.51702665e+00,\n",
              "          1.08321579e+00, -2.33484982e+00,  3.33306631e-01,\n",
              "         -5.45761554e-01],\n",
              "        [ 9.41644077e-01, -1.36713116e+00, -9.66492901e-01,\n",
              "          1.06132619e+00,  3.06130941e+00, -3.91292790e-01,\n",
              "         -9.91522029e-01,  1.91093590e-01, -6.59184200e-01,\n",
              "          2.70244050e+00, -6.84706692e-01,  2.36689899e+00,\n",
              "          1.14050171e+00],\n",
              "        [ 3.95861916e-01,  7.31458712e-01, -9.66492901e-01,\n",
              "         -1.79501034e-01,  2.41153822e-01, -3.91292790e-01,\n",
              "         -9.91522029e-01, -8.83041808e-01,  1.51702665e+00,\n",
              "          1.80287122e+00, -6.84706692e-01,  1.35010281e+00,\n",
              "          1.14050171e+00],\n",
              "        [-1.45979743e+00,  7.31458712e-01,  0.00000000e+00,\n",
              "          2.15307629e-01, -8.25932074e-01, -3.91292790e-01,\n",
              "          8.90027648e-01, -7.93530525e-01, -6.59184200e-01,\n",
              "         -8.95836630e-01, -6.84706692e-01, -6.83489548e-01,\n",
              "         -2.23202482e+00],\n",
              "        [ 6.14174781e-01, -1.36713116e+00,  9.66492901e-01,\n",
              "         -1.64593321e+00,  1.36540503e+00, -3.91292790e-01,\n",
              "          8.90027648e-01,  4.59627440e-01, -6.59184200e-01,\n",
              "         -8.95836630e-01,  9.65436435e-01,  3.33306631e-01,\n",
              "         -5.45761554e-01],\n",
              "        [ 6.14174781e-01,  7.31458712e-01, -9.66492901e-01,\n",
              "          4.97313817e-01,  8.89027402e-01, -3.91292790e-01,\n",
              "         -9.91522029e-01,  9.07183856e-01, -6.59184200e-01,\n",
              "          1.83646509e-01, -6.84706692e-01,  1.35010281e+00,\n",
              "          1.14050171e+00],\n",
              "        [-2.59076677e-01,  7.31458712e-01, -9.66492901e-01,\n",
              "         -1.79501034e-01,  1.64933401e-01, -3.91292790e-01,\n",
              "          8.90027648e-01,  5.04383081e-01,  1.51702665e+00,\n",
              "         -8.95836630e-01,  9.65436435e-01,  3.33306631e-01,\n",
              "          1.14050171e+00],\n",
              "        [-3.68233110e-01,  7.31458712e-01, -9.66492901e-01,\n",
              "          4.97313817e-01,  9.84302929e-01, -3.91292790e-01,\n",
              "          8.90027648e-01, -1.24108694e+00,  1.51702665e+00,\n",
              "          2.88235436e+00, -6.84706692e-01,  2.36689899e+00,\n",
              "          1.14050171e+00],\n",
              "        [-4.77389542e-01,  7.31458712e-01,  9.66492901e-01,\n",
              "         -1.23099797e-01, -9.59317811e-01, -3.91292790e-01,\n",
              "          8.90027648e-01,  5.93894364e-01, -6.59184200e-01,\n",
              "         -8.95836630e-01,  9.65436435e-01, -6.83489548e-01,\n",
              "         -5.45761554e-01],\n",
              "        [ 1.48742624e+00,  7.31458712e-01, -9.66492901e-01,\n",
              "          7.22918767e-01, -1.01648313e+00,  2.55563104e+00,\n",
              "          8.90027648e-01, -3.90729751e-01, -6.59184200e-01,\n",
              "          2.16269893e+00, -6.84706692e-01,  1.35010281e+00,\n",
              "          1.14050171e+00],\n",
              "        [ 6.14174781e-01,  7.31458712e-01,  9.66492901e-01,\n",
              "          4.97313817e-01, -1.16892397e+00, -3.91292790e-01,\n",
              "         -9.91522029e-01,  2.35849232e-01, -6.59184200e-01,\n",
              "          1.80287122e+00, -6.84706692e-01, -6.83489548e-01,\n",
              "         -5.45761554e-01],\n",
              "        [-1.13232814e+00,  7.31458712e-01, -9.66492901e-01,\n",
              "         -1.08192084e+00,  8.31862086e-01, -3.91292790e-01,\n",
              "         -9.91522029e-01,  1.46337948e-01, -6.59184200e-01,\n",
              "         -8.95836630e-01,  9.65436435e-01,  3.33306631e-01,\n",
              "         -5.45761554e-01]]))"
            ]
          },
          "metadata": {},
          "execution_count": 36
        }
      ]
    },
    {
      "cell_type": "code",
      "source": [
        "# Models\n",
        "from sklearn.svm import SVC\n",
        "from sklearn.linear_model import LogisticRegression\n",
        "from sklearn.ensemble import RandomForestClassifier\n",
        "from sklearn.tree import DecisionTreeClassifier\n",
        "from sklearn.neighbors import KNeighborsClassifier\n",
        "\n",
        "# Metrics\n",
        "from sklearn.metrics import accuracy_score, classification_report"
      ],
      "metadata": {
        "id": "R21xTb9ilGVb"
      },
      "execution_count": null,
      "outputs": []
    },
    {
      "cell_type": "markdown",
      "source": [
        "# **Logistic Regression Evaluation**"
      ],
      "metadata": {
        "id": "uffgOfmhfe8C"
      }
    },
    {
      "cell_type": "code",
      "source": [
        "logreg = LogisticRegression()\n",
        "model = logreg.fit(X_train, y_train.values.ravel())\n",
        "predicted=logreg.predict(X_test)"
      ],
      "metadata": {
        "id": "mHF1yop_fQsr"
      },
      "execution_count": null,
      "outputs": []
    },
    {
      "cell_type": "code",
      "source": [
        "accuracy_score(y_test, predicted)*100"
      ],
      "metadata": {
        "colab": {
          "base_uri": "https://localhost:8080/"
        },
        "id": "kAJlBt9OfbRL",
        "outputId": "58da3616-e9fd-49bb-a54d-ce456a514911"
      },
      "execution_count": null,
      "outputs": [
        {
          "output_type": "execute_result",
          "data": {
            "text/plain": [
              "83.60655737704919"
            ]
          },
          "metadata": {},
          "execution_count": 39
        }
      ]
    },
    {
      "cell_type": "code",
      "source": [
        "from sklearn.model_selection import cross_val_score, cross_val_predict\n",
        "from sklearn import metrics"
      ],
      "metadata": {
        "id": "SIyrr7mJJbR3"
      },
      "execution_count": null,
      "outputs": []
    },
    {
      "cell_type": "markdown",
      "source": [
        "# **Classification Reports and Confusion Matrix for Linear Regression**"
      ],
      "metadata": {
        "id": "ks7cMW-nJbU4"
      }
    },
    {
      "cell_type": "code",
      "source": [
        "from sklearn.metrics import confusion_matrix,classification_report\n",
        "\n",
        "#logreg_prediction = logreg.predict(X_test)\n",
        "plt.figure()\n",
        "sns.heatmap(confusion_matrix(y_test, predicted), annot=True)\n",
        "plt.xlabel(\"Predicted label\")\n",
        "plt.ylabel(\"True label\")\n",
        "plt.title(\"Logistic Regression Confusion Matrix\");"
      ],
      "metadata": {
        "colab": {
          "base_uri": "https://localhost:8080/",
          "height": 295
        },
        "id": "3efgFJDiJzWL",
        "outputId": "4ea32ea5-6eca-46e7-d703-92d69dcea5a2"
      },
      "execution_count": null,
      "outputs": [
        {
          "output_type": "display_data",
          "data": {
            "text/plain": [
              "<Figure size 432x288 with 2 Axes>"
            ],
            "image/png": "[encoded data removed]"
          },
          "metadata": {
            "needs_background": "light"
          }
        }
      ]
    },
    {
      "cell_type": "code",
      "source": [
        "print(\"Logistic Regression Classification Report: \\n\")\n",
        "print(classification_report(y_test, predicted))"
      ],
      "metadata": {
        "colab": {
          "base_uri": "https://localhost:8080/"
        },
        "id": "Ays4u-k-KDhS",
        "outputId": "9b526c8c-ef3e-439c-923c-fd33f8fe3630"
      },
      "execution_count": null,
      "outputs": [
        {
          "output_type": "stream",
          "name": "stdout",
          "text": [
            "Logistic Regression Classification Report: \n",
            "\n",
            "              precision    recall  f1-score   support\n",
            "\n",
            "           0       0.81      0.86      0.83        29\n",
            "           1       0.87      0.81      0.84        32\n",
            "\n",
            "    accuracy                           0.84        61\n",
            "   macro avg       0.84      0.84      0.84        61\n",
            "weighted avg       0.84      0.84      0.84        61\n",
            "\n"
          ]
        }
      ]
    },
    {
      "cell_type": "markdown",
      "source": [
        "# **KNN Evaluation**"
      ],
      "metadata": {
        "id": "LIbkW6DufmLA"
      }
    },
    {
      "cell_type": "code",
      "source": [
        "knn = KNeighborsClassifier(n_neighbors=5)\n",
        "knn.fit(X_train,y_train.values.ravel())\n",
        "y_pred = knn.predict(X_test)\n",
        "accuracy_score(y_test, y_pred)*100"
      ],
      "metadata": {
        "colab": {
          "base_uri": "https://localhost:8080/"
        },
        "id": "UW8bqktJfsVl",
        "outputId": "3b08fd50-ecf6-42af-961b-27d99be68e65"
      },
      "execution_count": null,
      "outputs": [
        {
          "output_type": "execute_result",
          "data": {
            "text/plain": [
              "91.80327868852459"
            ]
          },
          "metadata": {},
          "execution_count": 43
        }
      ]
    },
    {
      "cell_type": "code",
      "source": [
        "neighbors = list(range(1,26))\n",
        "train_scores = []\n",
        "test_scores = []"
      ],
      "metadata": {
        "id": "RMlWxcRj3u_k"
      },
      "execution_count": null,
      "outputs": []
    },
    {
      "cell_type": "code",
      "source": [
        "for i in neighbors:\n",
        "    clf = KNeighborsClassifier(n_neighbors = i)\n",
        "    clf.fit(X_train, y_train.values.ravel())\n",
        "    train_scores.append(clf.score(X_train, y_train))\n",
        "    test_scores.append(clf.score(X_test, y_test))"
      ],
      "metadata": {
        "id": "6H8WjWtK31GX"
      },
      "execution_count": null,
      "outputs": []
    },
    {
      "cell_type": "code",
      "source": [
        "plt.figure(figsize=[13,8])\n",
        "plt.plot(neighbors, test_scores, label = 'Testing Accuracy')\n",
        "plt.plot(neighbors, train_scores, label = 'Training Accuracy')\n",
        "plt.legend()\n",
        "plt.title('-value VS Accuracy')\n",
        "plt.xlabel('Number of Neighbors')\n",
        "plt.ylabel('Accuracy')\n",
        "plt.xticks(neighbors)\n",
        "plt.savefig('graph.png')\n",
        "plt.show()"
      ],
      "metadata": {
        "colab": {
          "base_uri": "https://localhost:8080/",
          "height": 513
        },
        "id": "M6QINEzG32lw",
        "outputId": "ad854d3d-2e81-4901-d1ad-5c5a6d7d3a88"
      },
      "execution_count": null,
      "outputs": [
        {
          "output_type": "display_data",
          "data": {
            "text/plain": [
              "<Figure size 936x576 with 1 Axes>"
            ],
            "image/png": "[encoded data removed]"
          },
          "metadata": {
            "needs_background": "light"
          }
        }
      ]
    },
    {
      "cell_type": "code",
      "source": [
        "plt.figure()\n",
        "sns.heatmap(confusion_matrix(y_test, predicted), annot=True)\n",
        "plt.xlabel(\"Predicted label\")\n",
        "plt.ylabel(\"True label\")\n",
        "plt.title(\"KNN Confusion Matrix\");"
      ],
      "metadata": {
        "colab": {
          "base_uri": "https://localhost:8080/",
          "height": 295
        },
        "id": "J9HUYj5_KXL7",
        "outputId": "45e9bd31-172f-4068-8774-8815d9f65109"
      },
      "execution_count": null,
      "outputs": [
        {
          "output_type": "display_data",
          "data": {
            "text/plain": [
              "<Figure size 432x288 with 2 Axes>"
            ],
            "image/png": "[encoded data removed]"
          },
          "metadata": {
            "needs_background": "light"
          }
        }
      ]
    },
    {
      "cell_type": "code",
      "source": [
        "print(\"KNN Classification Report: \\n\")\n",
        "print(classification_report(y_test, predicted))"
      ],
      "metadata": {
        "colab": {
          "base_uri": "https://localhost:8080/"
        },
        "id": "ASsdIV9lKXrj",
        "outputId": "74bb815e-0893-43c1-c898-32e925939ec6"
      },
      "execution_count": null,
      "outputs": [
        {
          "output_type": "stream",
          "name": "stdout",
          "text": [
            "KNN Classification Report: \n",
            "\n",
            "              precision    recall  f1-score   support\n",
            "\n",
            "           0       0.81      0.86      0.83        29\n",
            "           1       0.87      0.81      0.84        32\n",
            "\n",
            "    accuracy                           0.84        61\n",
            "   macro avg       0.84      0.84      0.84        61\n",
            "weighted avg       0.84      0.84      0.84        61\n",
            "\n"
          ]
        }
      ]
    },
    {
      "cell_type": "markdown",
      "source": [
        "Cross-Valid on KNN Neighbors to see which FOLD yields highest precision "
      ],
      "metadata": {
        "id": "3Yz6EaCcG_pJ"
      }
    },
    {
      "cell_type": "markdown",
      "source": [
        "# **SVM Evaluation**"
      ],
      "metadata": {
        "id": "4SyzAbuR9L3S"
      }
    },
    {
      "cell_type": "code",
      "source": [
        "SVC = SVC()\n",
        "SVC.fit(X_train, y_train.values.ravel())\n",
        "  \n",
        "predicted = SVC.predict(X_test)\n",
        "print(\"The accuracy of SVM is : \", accuracy_score(y_test, predicted)*100, \"%\")"
      ],
      "metadata": {
        "colab": {
          "base_uri": "https://localhost:8080/"
        },
        "id": "PSy58EAB5ePr",
        "outputId": "7d84506c-bcc1-406d-8c36-3631fbc36a9c"
      },
      "execution_count": null,
      "outputs": [
        {
          "output_type": "stream",
          "name": "stdout",
          "text": [
            "The accuracy of SVM is :  86.88524590163934 %\n"
          ]
        }
      ]
    },
    {
      "cell_type": "markdown",
      "source": [
        "# **Classification Reports and Confusion Matrix for SVM**"
      ],
      "metadata": {
        "id": "EaH0Cr_mLXL_"
      }
    },
    {
      "cell_type": "code",
      "source": [
        "plt.figure()\n",
        "sns.heatmap(confusion_matrix(y_test, predicted), annot=True)\n",
        "plt.xlabel(\"Predicted label\")\n",
        "plt.ylabel(\"True label\")\n",
        "plt.title(\"SVM Confusion Matrix\");"
      ],
      "metadata": {
        "colab": {
          "base_uri": "https://localhost:8080/",
          "height": 295
        },
        "id": "CXQDNqajLT7W",
        "outputId": "fa30e81c-1cc5-4073-ae61-656e977b2e3f"
      },
      "execution_count": null,
      "outputs": [
        {
          "output_type": "display_data",
          "data": {
            "text/plain": [
              "<Figure size 432x288 with 2 Axes>"
            ],
            "image/png": "[encoded data removed]"
          },
          "metadata": {
            "needs_background": "light"
          }
        }
      ]
    },
    {
      "cell_type": "code",
      "source": [
        "print(\"SVM Classification Report: \\n\")\n",
        "print(classification_report(y_test, predicted))"
      ],
      "metadata": {
        "colab": {
          "base_uri": "https://localhost:8080/"
        },
        "id": "Nv7tO5yILoqP",
        "outputId": "ff88f529-b45d-4757-b4c3-ad4987484c62"
      },
      "execution_count": null,
      "outputs": [
        {
          "output_type": "stream",
          "name": "stdout",
          "text": [
            "SVM Classification Report: \n",
            "\n",
            "              precision    recall  f1-score   support\n",
            "\n",
            "           0       0.82      0.93      0.87        29\n",
            "           1       0.93      0.81      0.87        32\n",
            "\n",
            "    accuracy                           0.87        61\n",
            "   macro avg       0.87      0.87      0.87        61\n",
            "weighted avg       0.88      0.87      0.87        61\n",
            "\n"
          ]
        }
      ]
    },
    {
      "cell_type": "markdown",
      "source": [
        "# **Decison Tree Evaluation**"
      ],
      "metadata": {
        "id": "ac7vK3Ks9O5Z"
      }
    },
    {
      "cell_type": "code",
      "source": [
        "DTree = DecisionTreeClassifier()\n",
        "\n",
        "DTree.fit(X_train, y_train.values.ravel())\n",
        "\n",
        "predicted = DTree.predict(X_test)\n",
        "print(\"The accuracy of DTree is : \", accuracy_score(y_test, predicted)*100, \"%\")"
      ],
      "metadata": {
        "colab": {
          "base_uri": "https://localhost:8080/"
        },
        "id": "kpfY0lqE9SjR",
        "outputId": "7c45fa9e-7ddf-4f80-cc25-970550143828"
      },
      "execution_count": null,
      "outputs": [
        {
          "output_type": "stream",
          "name": "stdout",
          "text": [
            "The accuracy of DTree is :  77.04918032786885 %\n"
          ]
        }
      ]
    },
    {
      "cell_type": "markdown",
      "source": [
        "# **Random Forest Evaluation**"
      ],
      "metadata": {
        "id": "HWw-dUCy-vlM"
      }
    },
    {
      "cell_type": "code",
      "source": [
        "rf = RandomForestClassifier()\n",
        "\n",
        "rf.fit(X_train, y_train.values.ravel())\n",
        "\n",
        "predicted = rf.predict(X_test)\n",
        "print(\"The accuracy of RandomForest is : \", accuracy_score(y_test, predicted)*100, \"%\")"
      ],
      "metadata": {
        "colab": {
          "base_uri": "https://localhost:8080/"
        },
        "id": "vPMP0Y_Q9oaJ",
        "outputId": "c7cb0bd5-310a-492b-b33b-c1bb14a2d2da"
      },
      "execution_count": null,
      "outputs": [
        {
          "output_type": "stream",
          "name": "stdout",
          "text": [
            "The accuracy of RandomForest is :  85.24590163934425 %\n"
          ]
        }
      ]
    },
    {
      "cell_type": "markdown",
      "source": [
        "# **Attempt To perform Cross-Validation**"
      ],
      "metadata": {
        "id": "VYsinaWzaBHT"
      }
    },
    {
      "cell_type": "code",
      "source": [
        "estimator = RandomForestClassifier()\n",
        "param_grid = {\n",
        "    'max_depth':range(2,7),\n",
        "    'n_estimators':range(10,25)\n",
        "}"
      ],
      "metadata": {
        "id": "NMX75gxFQaL5"
      },
      "execution_count": null,
      "outputs": []
    },
    {
      "cell_type": "code",
      "source": [
        "from sklearn.model_selection import GridSearchCV\n",
        "grid_search_rf = GridSearchCV(\n",
        "    estimator=estimator,\n",
        "    param_grid=param_grid,\n",
        ")\n",
        "grid_search_rf.fit(X_train, y_train)\n",
        "print('Best Parameters were: {}'.format(grid_search_rf.best_params_))\n",
        "print('Best CrossVal Score was:{}'.format(grid_search_rf.best_score_))\n"
      ],
      "metadata": {
        "colab": {
          "base_uri": "https://localhost:8080/"
        },
        "id": "nh5kUVZKQb8Z",
        "outputId": "375c83ed-d744-4bee-a715-a3b5f6c42ede"
      },
      "execution_count": null,
      "outputs": [
        {
          "output_type": "stream",
          "name": "stdout",
          "text": [
            "Best Parameters were: {'max_depth': 3, 'n_estimators': 24}\n",
            "Best CrossVal Score was:0.8589285714285715\n"
          ]
        }
      ]
    },
    {
      "cell_type": "code",
      "source": [
        "rf_clf = RandomForestClassifier(\n",
        "    max_depth = 3,\n",
        "    n_estimators = 10\n",
        ")\n",
        "rf_clf.fit(\n",
        "    X_train,\n",
        "    y_train.values.ravel()\n",
        ")\n",
        "y_pred_rf = rf_clf.predict(X_test)\n",
        "print('Random Forrest Accuracy: {}'.format(accuracy_score(y_test, y_pred_rf)))"
      ],
      "metadata": {
        "colab": {
          "base_uri": "https://localhost:8080/"
        },
        "id": "N--mYIurQ6xE",
        "outputId": "ad91b56a-2b1f-4f14-9d29-178b899877df"
      },
      "execution_count": null,
      "outputs": [
        {
          "output_type": "stream",
          "name": "stdout",
          "text": [
            "Random Forrest Accuracy: 0.9016393442622951\n"
          ]
        }
      ]
    }
  ]
}